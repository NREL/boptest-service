{
  "nbformat": 4,
  "nbformat_minor": 0,
  "metadata": {
    "colab": {
      "provenance": [],
      "collapsed_sections": [],
      "authorship_tag": "ABX9TyOCuzX3R1+JvKzJATOZHsyz",
      "include_colab_link": true
    },
    "kernelspec": {
      "name": "python3",
      "display_name": "Python 3"
    },
    "language_info": {
      "name": "python"
    }
  },
  "cells": [
    {
      "cell_type": "markdown",
      "metadata": {
        "id": "view-in-github",
        "colab_type": "text"
      },
      "source": [
        "<a href=\"https://colab.research.google.com/github/NREL/boptest-service/blob/documentation_readme_changes/docs/Introduction_to_BOPTEST_Service_APIs.ipynb\" target=\"_parent\"><img src=\"https://colab.research.google.com/assets/colab-badge.svg\" alt=\"Open In Colab\"/></a>"
      ]
    },
    {
      "cell_type": "markdown",
      "source": [
        "# BOPTEST Service APIs\n",
        "\n",
        "This is an introduction to the BOPTEST-Service APIs. Using BOPTEST version 0.3. These APIS are based on HTTP REST framework. \n",
        "\n",
        "\n",
        "## Authentication\n",
        "We will soon begin optional authentication with the BOPTEST dashboard username. You can create a BOPTEST username in the dashboard.boptest.net website. This username will be sent along with the API calls in as the Authentication parameter in the API header. If you are authenticated, you will be able to track your test status on the dashboard. \n",
        "\n"
      ],
      "metadata": {
        "id": "sY9FCj3WMn-w"
      }
    },
    {
      "cell_type": "markdown",
      "source": [
        "We start with a short setup that imports the `requests` and `json` Python modules. We also define the url to the BOPTEST server. We have set it to `https://api.boptest.net` as default but feel free to change it to another server if you want to. "
      ],
      "metadata": {
        "id": "9GWMIfm-e4zD"
      }
    },
    {
      "cell_type": "code",
      "source": [
        "import requests\n",
        "import json\n",
        "\n",
        "BOPTEST_URL = 'https://api.boptest.net'\n",
        "\n",
        "def return_pretty_JSON(json_object):\n",
        "  return json.dumps(json_object, indent=2)\n",
        "\n",
        "def print_BOPTEST_response(response):\n",
        "  print(response['message'])\n",
        "\n",
        "  if response['status'] == 200:\n",
        "    payload = return_pretty_JSON(response['payload'])\n",
        "    print(f'The payload is {payload}')\n"
      ],
      "metadata": {
        "id": "7nZjDXLxM6Y7"
      },
      "execution_count": null,
      "outputs": []
    },
    {
      "cell_type": "markdown",
      "source": [
        "## What are the test cases that I can use? : The `/testcases` API\n",
        "\n",
        "The `/testcases` API returns the testcases that are already available for use on the BOPTEST server. This is an GET request which is prefixed by the BOPTEST server URL. "
      ],
      "metadata": {
        "id": "5NIeKvkIMuoc"
      }
    },
    {
      "cell_type": "code",
      "execution_count": null,
      "metadata": {
        "colab": {
          "base_uri": "https://localhost:8080/"
        },
        "id": "aiKANXkxIhUB",
        "outputId": "575da8f7-4144-4b33-f687-2c7b66a4c6f0"
      },
      "outputs": [
        {
          "output_type": "stream",
          "name": "stdout",
          "text": [
            "[\n",
            "  {\n",
            "    \"testcaseid\": \"bestest_air\"\n",
            "  },\n",
            "  {\n",
            "    \"testcaseid\": \"bestest_hydronic\"\n",
            "  },\n",
            "  {\n",
            "    \"testcaseid\": \"bestest_hydronic_heat_pump\"\n",
            "  },\n",
            "  {\n",
            "    \"testcaseid\": \"multizone_residential_hydronic\"\n",
            "  },\n",
            "  {\n",
            "    \"testcaseid\": \"singlezone_commercial_hydronic\"\n",
            "  },\n",
            "  {\n",
            "    \"testcaseid\": \"testcase1\"\n",
            "  },\n",
            "  {\n",
            "    \"testcaseid\": \"testcase2\"\n",
            "  },\n",
            "  {\n",
            "    \"testcaseid\": \"testcase3\"\n",
            "  }\n",
            "]\n"
          ]
        }
      ],
      "source": [
        "all_testcases = requests.get(f\"{BOPTEST_URL}/testcases\")\n",
        "print(return_pretty_JSON(all_testcases.json()[:8])) # Printing out the first eight testcases"
      ]
    },
    {
      "cell_type": "markdown",
      "source": [
        "## Is a specific test case available? The GET `testcases/{testcase_name}` API\n",
        "\n",
        "If you want to check if a specific test case is available, you can use the GET `testcases/{testcase_name}` API. If the test case is available, you will get a response with status code `200` that will confirm the test case is available. "
      ],
      "metadata": {
        "id": "_diXhxpYOim1"
      }
    },
    {
      "cell_type": "code",
      "source": [
        "testcase_names = [\"multizone_office_simple_air\", \"example_testcase_not_present\"]\n",
        "\n",
        "for testcase_name in testcase_names:\n",
        "  testcase_presence = requests.get(f\"{BOPTEST_URL}/testcases/{testcase_name}\")\n",
        " \n",
        "  if testcase_presence.status_code == 200:\n",
        "    print(f\"Yes! \\\"{testcase_name}\\\" is present in list of testcases!\")\n",
        "  else:\n",
        "    print(f\"Failed to confirm \\\"{testcase_name}\\\" presence with response code returning {testcase_presence.status_code} :\\\\\")"
      ],
      "metadata": {
        "colab": {
          "base_uri": "https://localhost:8080/"
        },
        "id": "u7ixmyR3OiMT",
        "outputId": "55d06c42-c2ec-4bd0-bde8-b333812d937f"
      },
      "execution_count": null,
      "outputs": [
        {
          "output_type": "stream",
          "name": "stdout",
          "text": [
            "Yes! \"multizone_office_simple_air\" is present in list of testcases!\n",
            "Failed to confirm \"example_testcase_not_present\" presence with response code returning 404 :\\\n"
          ]
        }
      ]
    },
    {
      "cell_type": "markdown",
      "source": [
        "Ok, there  are so many test cases available, how can I choose one to work with?"
      ],
      "metadata": {
        "id": "wnAOO0NPs6Xb"
      }
    },
    {
      "cell_type": "markdown",
      "source": [
        "## Choosing a test case to work with: the POST `testcases/{testcase_name}/select` API \n",
        "\n",
        "The POST `testcases/{testcase_name}/select` API will help you choose a test case to work with. You get a `test_id` as a response when you call the `/select` API.  \n",
        "The `test_id` is a unique identifier for each test. Most of the test specific BOPTEST API's require the `test_id` if you want to interact with the test. \n"
      ],
      "metadata": {
        "id": "NttMneB-UBWQ"
      }
    },
    {
      "cell_type": "code",
      "source": [
        "testcase_name = \"bestest_hydronic_heat_pump\"\n",
        "\n",
        "test_id = requests.post(f\"{BOPTEST_URL}/testcases/{testcase_name}/select\").json()['testid']\n",
        "print(f\"The test id for this particular test is {test_id}.\")"
      ],
      "metadata": {
        "id": "G8f9m6M_NTkg"
      },
      "execution_count": null,
      "outputs": []
    },
    {
      "cell_type": "markdown",
      "source": [
        "We selected the \"bestest_hydronic_heat_pump\" test case and got a unique testid for interacting with the test. What all can I do with this test?"
      ],
      "metadata": {
        "id": "B3jJnlo4tLJi"
      }
    },
    {
      "cell_type": "markdown",
      "source": [
        "## Getting to know your test:\n",
        "\n",
        "### Initializing using Scenarios:\n",
        "\n",
        "Scenarios are pre-defined time periods and conditions for each test. Setting a scenario will initialize the test to start at the beginning of the pre-defined time period. The available scenarios for each BOPTEST test case is provided in the [BOPTEST documentation](https://ibpsa.github.io/project1-boptest/testcases/index.html). For example, the \"bestest_hydronic_heat_pump\" we are using in this tutorial has the following time periods and conditions available for scenario.  \n",
        "\n",
        "Time periods:\n",
        "1. peak_heat_day\n",
        "2. typical_heat_day\n",
        "\n",
        "Electricity prices:\n",
        "1. constant\n",
        "2. dynamic\n",
        "3. highly_dynamic"
      ],
      "metadata": {
        "id": "iAwb802WQ6jT"
      }
    },
    {
      "cell_type": "markdown",
      "source": [
        "#### Setting the scenario:\n",
        "\n",
        "You can use the PUT `/scenario` API to set the scenario. In the next cell, we will set the time period to peak_heat_day and the electricity price to constant for our test."
      ],
      "metadata": {
        "id": "iLvUA_zAu0_C"
      }
    },
    {
      "cell_type": "code",
      "source": [
        "# Initialize using /scenario\n",
        "y = requests.put(f'{BOPTEST_URL}/scenario/{test_id}', \n",
        "                 data={'time_period':'peak_heat_day',\n",
        "                       'electricity_price':'constant'}).json() "
      ],
      "metadata": {
        "id": "sq2-G0hM0Sa7"
      },
      "execution_count": null,
      "outputs": []
    },
    {
      "cell_type": "code",
      "source": [
        "print_BOPTEST_response(y)"
      ],
      "metadata": {
        "colab": {
          "base_uri": "https://localhost:8080/"
        },
        "id": "2g0EoGJu0n0w",
        "outputId": "5c5e8c6b-27ae-4bd9-d500-fe1913f94e6d"
      },
      "execution_count": null,
      "outputs": [
        {
          "output_type": "stream",
          "name": "stdout",
          "text": [
            "Test case scenario was set successfully.\n",
            "The payload is {\n",
            "  \"electricity_price\": \"constant\",\n",
            "  \"time_period\": {\n",
            "    \"ovePum_activate\": 0,\n",
            "    \"weaSta_reaWeaNOpa_y\": 0.2,\n",
            "    \"reaPFan_y\": 510.20408163265313,\n",
            "    \"oveTSet_u\": 294.34999999999997,\n",
            "    \"reaQHeaPumCon_y\": 7386.771485507761,\n",
            "    \"reaTRet_y\": 302.40029127477544,\n",
            "    \"weaSta_reaWeaPAtm_y\": 101325,\n",
            "    \"weaSta_reaWeaTBlaSky_y\": 260.82015225846817,\n",
            "    \"reaQHeaPumEva_y\": -5001.493945256057,\n",
            "    \"weaSta_reaWeaNTot_y\": 0.2,\n",
            "    \"weaSta_reaWeaSolAlt_y\": -1.0200406146124426,\n",
            "    \"reaTZon_y\": 294.4643919860063,\n",
            "    \"weaSta_reaWeaHHorIR_y\": 262,\n",
            "    \"weaSta_reaWeaSolTim_y\": 1379289.1064134557,\n",
            "    \"oveHeaPumY_u\": 0.6283099681151593,\n",
            "    \"weaSta_reaWeaCloTim_y\": 1382400,\n",
            "    \"oveHeaPumY_activate\": 0,\n",
            "    \"reaPPumEmi_y\": 20.498644281163177,\n",
            "    \"weaSta_reaWeaHGloHor_y\": 0,\n",
            "    \"weaSta_reaWeaHDifHor_y\": 0,\n",
            "    \"oveTSet_activate\": 0,\n",
            "    \"weaSta_reaWeaRelHum_y\": 0.9,\n",
            "    \"reaTSetHea_y\": 294.15,\n",
            "    \"reaCO2RooAir_y\": 754.1571682156247,\n",
            "    \"weaSta_reaWeaSolDec_y\": -0.36698636938254725,\n",
            "    \"ovePum_u\": 1,\n",
            "    \"reaPHeaPum_y\": 2385.2775401827284,\n",
            "    \"weaSta_reaWeaHDirNor_y\": 0,\n",
            "    \"reaTSetCoo_y\": 297.15,\n",
            "    \"weaSta_reaWeaWinDir_y\": 4.537856055185257,\n",
            "    \"reaTSup_y\": 305.9403984777304,\n",
            "    \"weaSta_reaWeaSolZen_y\": 2.590836941407339,\n",
            "    \"reaQFloHea_y\": 7445.464652900132,\n",
            "    \"reaCOP_y\": 3.096818446100777,\n",
            "    \"weaSta_reaWeaTWetBul_y\": 274.04854504120533,\n",
            "    \"weaSta_reaWeaTDewPoi_y\": 273.25,\n",
            "    \"weaSta_reaWeaWinSpe_y\": 3.6,\n",
            "    \"weaSta_reaWeaLon_y\": 0.07906341511534314,\n",
            "    \"time\": 1382400,\n",
            "    \"weaSta_reaWeaLat_y\": 0.8883725892651138,\n",
            "    \"weaSta_reaWeaTDryBul_y\": 274.65,\n",
            "    \"weaSta_reaWeaCeiHei_y\": 22000,\n",
            "    \"weaSta_reaWeaSolHouAng_y\": 97.1631416955987,\n",
            "    \"oveFan_activate\": 0,\n",
            "    \"oveFan_u\": 1\n",
            "  }\n",
            "}\n"
          ]
        }
      ]
    },
    {
      "cell_type": "markdown",
      "source": [
        "### Test measurements:\n",
        "\n",
        "Measurements refer to the outputs from the test case model. Measurements are like properties that define the model state. Each test case has its specific set of measurements. You can check what measurements are available for a test with the GET `/measurements` request, as shown below. \n",
        "\n",
        "The API response will tell you what are \n",
        "1. The minimum values for the measurement.\n",
        "2. A short description of the measurement, \n",
        "3. The measurement unit.\n",
        "4. The maximum value for the measurement. \n",
        "\n",
        " \n"
      ],
      "metadata": {
        "id": "OI0dPty_Ta-g"
      }
    },
    {
      "cell_type": "code",
      "source": [
        "measurements_response = requests.get(f'{BOPTEST_URL}/measurements/{test_id}').json()\n",
        "print_BOPTEST_response(measurements_response)"
      ],
      "metadata": {
        "colab": {
          "base_uri": "https://localhost:8080/"
        },
        "id": "gOhSCHDTgdhU",
        "outputId": "25aef488-9c03-4fd4-c9ff-e5d1de0a97ec"
      },
      "execution_count": null,
      "outputs": [
        {
          "output_type": "stream",
          "name": "stdout",
          "text": [
            "Queried the measurements successfully.\n",
            "The payload is {\n",
            "  \"weaSta_reaWeaPAtm_y\": {\n",
            "    \"Minimum\": null,\n",
            "    \"Description\": \"Atmospheric pressure measurement\",\n",
            "    \"Unit\": \"Pa\",\n",
            "    \"Maximum\": null\n",
            "  },\n",
            "  \"reaPFan_y\": {\n",
            "    \"Minimum\": null,\n",
            "    \"Description\": \"Electrical power of the heat pump evaporator fan\",\n",
            "    \"Unit\": \"W\",\n",
            "    \"Maximum\": null\n",
            "  },\n",
            "  \"reaQHeaPumCon_y\": {\n",
            "    \"Minimum\": null,\n",
            "    \"Description\": \"Heat pump thermal power exchanged in the condenser\",\n",
            "    \"Unit\": \"W\",\n",
            "    \"Maximum\": null\n",
            "  },\n",
            "  \"reaTRet_y\": {\n",
            "    \"Minimum\": null,\n",
            "    \"Description\": \"Return water temperature from radiant floor\",\n",
            "    \"Unit\": \"K\",\n",
            "    \"Maximum\": null\n",
            "  },\n",
            "  \"weaSta_reaWeaNOpa_y\": {\n",
            "    \"Minimum\": null,\n",
            "    \"Description\": \"Opaque sky cover measurement\",\n",
            "    \"Unit\": \"1\",\n",
            "    \"Maximum\": null\n",
            "  },\n",
            "  \"weaSta_reaWeaTBlaSky_y\": {\n",
            "    \"Minimum\": null,\n",
            "    \"Description\": \"Black-body sky temperature measurement\",\n",
            "    \"Unit\": \"K\",\n",
            "    \"Maximum\": null\n",
            "  },\n",
            "  \"reaQHeaPumEva_y\": {\n",
            "    \"Minimum\": null,\n",
            "    \"Description\": \"Heat pump thermal power exchanged in the evaporator\",\n",
            "    \"Unit\": \"W\",\n",
            "    \"Maximum\": null\n",
            "  },\n",
            "  \"weaSta_reaWeaNTot_y\": {\n",
            "    \"Minimum\": null,\n",
            "    \"Description\": \"Sky cover measurement\",\n",
            "    \"Unit\": \"1\",\n",
            "    \"Maximum\": null\n",
            "  },\n",
            "  \"weaSta_reaWeaSolAlt_y\": {\n",
            "    \"Minimum\": null,\n",
            "    \"Description\": \"Solar altitude angle measurement\",\n",
            "    \"Unit\": \"rad\",\n",
            "    \"Maximum\": null\n",
            "  },\n",
            "  \"reaTZon_y\": {\n",
            "    \"Minimum\": null,\n",
            "    \"Description\": \"Zone operative temperature\",\n",
            "    \"Unit\": \"K\",\n",
            "    \"Maximum\": null\n",
            "  },\n",
            "  \"weaSta_reaWeaHHorIR_y\": {\n",
            "    \"Minimum\": null,\n",
            "    \"Description\": \"Horizontal infrared irradiation measurement\",\n",
            "    \"Unit\": \"W/m2\",\n",
            "    \"Maximum\": null\n",
            "  },\n",
            "  \"weaSta_reaWeaLon_y\": {\n",
            "    \"Minimum\": null,\n",
            "    \"Description\": \"Longitude of the location\",\n",
            "    \"Unit\": \"rad\",\n",
            "    \"Maximum\": null\n",
            "  },\n",
            "  \"weaSta_reaWeaSolTim_y\": {\n",
            "    \"Minimum\": null,\n",
            "    \"Description\": \"Solar time\",\n",
            "    \"Unit\": \"s\",\n",
            "    \"Maximum\": null\n",
            "  },\n",
            "  \"weaSta_reaWeaCloTim_y\": {\n",
            "    \"Minimum\": null,\n",
            "    \"Description\": \"Day number with units of seconds\",\n",
            "    \"Unit\": \"s\",\n",
            "    \"Maximum\": null\n",
            "  },\n",
            "  \"reaPPumEmi_y\": {\n",
            "    \"Minimum\": null,\n",
            "    \"Description\": \"Emission circuit pump electrical power\",\n",
            "    \"Unit\": \"W\",\n",
            "    \"Maximum\": null\n",
            "  },\n",
            "  \"weaSta_reaWeaHGloHor_y\": {\n",
            "    \"Minimum\": null,\n",
            "    \"Description\": \"Global horizontal solar irradiation measurement\",\n",
            "    \"Unit\": \"W/m2\",\n",
            "    \"Maximum\": null\n",
            "  },\n",
            "  \"weaSta_reaWeaHDifHor_y\": {\n",
            "    \"Minimum\": null,\n",
            "    \"Description\": \"Horizontal diffuse solar radiation measurement\",\n",
            "    \"Unit\": \"W/m2\",\n",
            "    \"Maximum\": null\n",
            "  },\n",
            "  \"weaSta_reaWeaRelHum_y\": {\n",
            "    \"Minimum\": null,\n",
            "    \"Description\": \"Outside relative humidity measurement\",\n",
            "    \"Unit\": \"1\",\n",
            "    \"Maximum\": null\n",
            "  },\n",
            "  \"reaTSetHea_y\": {\n",
            "    \"Minimum\": null,\n",
            "    \"Description\": \"Zone operative temperature setpoint for heating\",\n",
            "    \"Unit\": \"K\",\n",
            "    \"Maximum\": null\n",
            "  },\n",
            "  \"reaCO2RooAir_y\": {\n",
            "    \"Minimum\": null,\n",
            "    \"Description\": \"CO2 concentration in the zone\",\n",
            "    \"Unit\": \"ppm\",\n",
            "    \"Maximum\": null\n",
            "  },\n",
            "  \"weaSta_reaWeaSolDec_y\": {\n",
            "    \"Minimum\": null,\n",
            "    \"Description\": \"Solar declination angle measurement\",\n",
            "    \"Unit\": \"rad\",\n",
            "    \"Maximum\": null\n",
            "  },\n",
            "  \"reaPHeaPum_y\": {\n",
            "    \"Minimum\": null,\n",
            "    \"Description\": \"Heat pump electrical power\",\n",
            "    \"Unit\": \"W\",\n",
            "    \"Maximum\": null\n",
            "  },\n",
            "  \"weaSta_reaWeaHDirNor_y\": {\n",
            "    \"Minimum\": null,\n",
            "    \"Description\": \"Direct normal radiation measurement\",\n",
            "    \"Unit\": \"W/m2\",\n",
            "    \"Maximum\": null\n",
            "  },\n",
            "  \"reaTSetCoo_y\": {\n",
            "    \"Minimum\": null,\n",
            "    \"Description\": \"Zone operative temperature setpoint for cooling\",\n",
            "    \"Unit\": \"K\",\n",
            "    \"Maximum\": null\n",
            "  },\n",
            "  \"weaSta_reaWeaWinDir_y\": {\n",
            "    \"Minimum\": null,\n",
            "    \"Description\": \"Wind direction measurement\",\n",
            "    \"Unit\": \"rad\",\n",
            "    \"Maximum\": null\n",
            "  },\n",
            "  \"reaTSup_y\": {\n",
            "    \"Minimum\": null,\n",
            "    \"Description\": \"Supply water temperature to radiant floor\",\n",
            "    \"Unit\": \"K\",\n",
            "    \"Maximum\": null\n",
            "  },\n",
            "  \"weaSta_reaWeaSolZen_y\": {\n",
            "    \"Minimum\": null,\n",
            "    \"Description\": \"Solar zenith angle measurement\",\n",
            "    \"Unit\": \"rad\",\n",
            "    \"Maximum\": null\n",
            "  },\n",
            "  \"reaQFloHea_y\": {\n",
            "    \"Minimum\": null,\n",
            "    \"Description\": \"Floor heating thermal power released to the zone\",\n",
            "    \"Unit\": \"W\",\n",
            "    \"Maximum\": null\n",
            "  },\n",
            "  \"reaCOP_y\": {\n",
            "    \"Minimum\": null,\n",
            "    \"Description\": \"Heat pump COP\",\n",
            "    \"Unit\": \"1\",\n",
            "    \"Maximum\": null\n",
            "  },\n",
            "  \"weaSta_reaWeaTDryBul_y\": {\n",
            "    \"Minimum\": null,\n",
            "    \"Description\": \"Outside drybulb temperature measurement\",\n",
            "    \"Unit\": \"K\",\n",
            "    \"Maximum\": null\n",
            "  },\n",
            "  \"weaSta_reaWeaTWetBul_y\": {\n",
            "    \"Minimum\": null,\n",
            "    \"Description\": \"Wet bulb temperature measurement\",\n",
            "    \"Unit\": \"K\",\n",
            "    \"Maximum\": null\n",
            "  },\n",
            "  \"weaSta_reaWeaTDewPoi_y\": {\n",
            "    \"Minimum\": null,\n",
            "    \"Description\": \"Dew point temperature measurement\",\n",
            "    \"Unit\": \"K\",\n",
            "    \"Maximum\": null\n",
            "  },\n",
            "  \"weaSta_reaWeaWinSpe_y\": {\n",
            "    \"Minimum\": null,\n",
            "    \"Description\": \"Wind speed measurement\",\n",
            "    \"Unit\": \"m/s\",\n",
            "    \"Maximum\": null\n",
            "  },\n",
            "  \"weaSta_reaWeaLat_y\": {\n",
            "    \"Minimum\": null,\n",
            "    \"Description\": \"Latitude of the location\",\n",
            "    \"Unit\": \"rad\",\n",
            "    \"Maximum\": null\n",
            "  },\n",
            "  \"weaSta_reaWeaCeiHei_y\": {\n",
            "    \"Minimum\": null,\n",
            "    \"Description\": \"Cloud cover ceiling height measurement\",\n",
            "    \"Unit\": \"m\",\n",
            "    \"Maximum\": null\n",
            "  },\n",
            "  \"weaSta_reaWeaSolHouAng_y\": {\n",
            "    \"Minimum\": null,\n",
            "    \"Description\": \"Solar hour angle measurement\",\n",
            "    \"Unit\": \"rad\",\n",
            "    \"Maximum\": null\n",
            "  }\n",
            "}\n"
          ]
        }
      ]
    },
    {
      "cell_type": "markdown",
      "source": [
        "### The control step:\n",
        "\n",
        "\n",
        "This variable defines how much time the simulation will move forward at each step. \n",
        "There is a default value for the control step, so you don't have to set it if you don't want to. \n"
      ],
      "metadata": {
        "id": "XAj7OaFXaTP2"
      }
    },
    {
      "cell_type": "markdown",
      "source": [
        "#### Getting the current/default control step: The GET `/step` API\n",
        "\n",
        "This GET request will tell you what is the current control step is:"
      ],
      "metadata": {
        "id": "cqnBXE3zaa2e"
      }
    },
    {
      "cell_type": "code",
      "source": [
        "# Get default control step\n",
        "response = requests.get(f'{BOPTEST_URL}/step/{test_id}').json()\n",
        "print(response['message'])\n",
        "\n",
        "if response['status'] == 200:\n",
        "  step = response['payload']\n",
        "  print(f'The default step period is {step}s.')\n"
      ],
      "metadata": {
        "colab": {
          "base_uri": "https://localhost:8080/"
        },
        "id": "rK_ABSFGVxlQ",
        "outputId": "7e01d304-4820-4309-ebdf-67a7382a646b"
      },
      "execution_count": null,
      "outputs": [
        {
          "output_type": "stream",
          "name": "stdout",
          "text": [
            "Queried the control step successfully.\n",
            "The default step period is 3600s.\n"
          ]
        }
      ]
    },
    {
      "cell_type": "markdown",
      "source": [
        "#### Setting your own control step: The PUT `/step` API\n",
        "\n",
        "There is a PUT `/step` API which allows you to set your own control step in seconds:"
      ],
      "metadata": {
        "id": "T13l1CeLe5fn"
      }
    },
    {
      "cell_type": "code",
      "source": [
        "# Set the control step\n",
        "response = requests.put(f'{BOPTEST_URL}/step/{test_id}', data={'step':1800}).json()\n",
        "print(response['message'])\n",
        "\n",
        "if response['status'] == 200:\n",
        "  step = response['payload']\n",
        "  print(f'The control step period was set to {step}s.')\n"
      ],
      "metadata": {
        "colab": {
          "base_uri": "https://localhost:8080/"
        },
        "id": "EO9p8HsBM0Nm",
        "outputId": "95c4a1ac-3221-4a46-9898-5fd64bfdbce0"
      },
      "execution_count": null,
      "outputs": [
        {
          "output_type": "stream",
          "name": "stdout",
          "text": [
            "Control step set successfully.\n",
            "The control step period was set to {'step': 1800}s.\n"
          ]
        }
      ]
    },
    {
      "cell_type": "code",
      "source": [
        "# Check the control step now with the GET /step API:\n",
        "response = requests.get(f'{BOPTEST_URL}/step/{test_id}').json()\n",
        "print(response['message'])\n",
        "\n",
        "if response['status'] == 200:\n",
        "  step = response['payload']\n",
        "  print(f'The control step period now is {step}s.')"
      ],
      "metadata": {
        "colab": {
          "base_uri": "https://localhost:8080/"
        },
        "id": "pvsrbGgTfFOc",
        "outputId": "8cb3af5a-8df1-43aa-e3e4-337642f7a4c2"
      },
      "execution_count": null,
      "outputs": [
        {
          "output_type": "stream",
          "name": "stdout",
          "text": [
            "Queried the control step successfully.\n",
            "The control step period now is 1800s.\n"
          ]
        }
      ]
    },
    {
      "cell_type": "markdown",
      "source": [
        "\n",
        "\n",
        "---\n",
        "\n"
      ],
      "metadata": {
        "id": "FcYNTTJURPEA"
      }
    },
    {
      "cell_type": "markdown",
      "source": [
        "## Moving forward with the simulation: The `/advance` API:\n",
        "\n",
        "You step through the simulation using the `/advance` API. One call of the `/advance` API will move the simulation forward by one control step that we defined before. "
      ],
      "metadata": {
        "id": "7ziIAJUQsYXH"
      }
    },
    {
      "cell_type": "markdown",
      "source": [
        "### Responses of the `/advance` API call:\n",
        "The payload of the /advance call will show you the values of the current measurements. "
      ],
      "metadata": {
        "id": "C9FO-Iy-Toit"
      }
    },
    {
      "cell_type": "code",
      "source": [
        "# A basic advance step\n",
        "y = requests.post(f'{BOPTEST_URL}/advance/{test_id}').json()\n",
        "\n",
        "print_BOPTEST_response(y)"
      ],
      "metadata": {
        "colab": {
          "base_uri": "https://localhost:8080/"
        },
        "id": "iblF7UW_sXi7",
        "outputId": "14ab3b21-170d-4532-c638-fb1e3b823ae9"
      },
      "execution_count": null,
      "outputs": [
        {
          "output_type": "stream",
          "name": "stdout",
          "text": [
            "Advanced simulation successfully from 1382400.0s to 1384200.0s.\n",
            "The payload is {\n",
            "  \"ovePum_activate\": 0,\n",
            "  \"weaSta_reaWeaNOpa_y\": 0.37,\n",
            "  \"reaPFan_y\": 510.20408163265313,\n",
            "  \"oveTSet_u\": 294.34999999999997,\n",
            "  \"reaQHeaPumCon_y\": 6922.675155057209,\n",
            "  \"reaTRet_y\": 302.3175489991955,\n",
            "  \"weaSta_reaWeaPAtm_y\": 101325,\n",
            "  \"weaSta_reaWeaTBlaSky_y\": 261.8763636716621,\n",
            "  \"reaQHeaPumEva_y\": -4647.882674873364,\n",
            "  \"weaSta_reaWeaNTot_y\": 0.37,\n",
            "  \"weaSta_reaWeaSolAlt_y\": -1.0439994874090108,\n",
            "  \"reaTZon_y\": 294.51991293043386,\n",
            "  \"weaSta_reaWeaHHorIR_y\": 266.4642857142857,\n",
            "  \"weaSta_reaWeaSolTim_y\": 1381088.6929458883,\n",
            "  \"oveHeaPumY_u\": 0.5755813303128813,\n",
            "  \"weaSta_reaWeaCloTim_y\": 1384200,\n",
            "  \"oveHeaPumY_activate\": 0,\n",
            "  \"reaPPumEmi_y\": 20.498644281163177,\n",
            "  \"weaSta_reaWeaHGloHor_y\": 0,\n",
            "  \"weaSta_reaWeaHDifHor_y\": 0,\n",
            "  \"oveTSet_activate\": 0,\n",
            "  \"weaSta_reaWeaRelHum_y\": 0.8944791666666667,\n",
            "  \"reaTSetHea_y\": 294.15,\n",
            "  \"reaCO2RooAir_y\": 766.39686084948,\n",
            "  \"weaSta_reaWeaSolDec_y\": -0.3669202629349082,\n",
            "  \"ovePum_u\": 1,\n",
            "  \"reaPHeaPum_y\": 2274.7924801572835,\n",
            "  \"weaSta_reaWeaHDirNor_y\": 0,\n",
            "  \"reaTSetCoo_y\": 297.15,\n",
            "  \"weaSta_reaWeaWinDir_y\": 4.42513687432729,\n",
            "  \"reaTSup_y\": 305.6375740082465,\n",
            "  \"weaSta_reaWeaSolZen_y\": 2.6147958142039074,\n",
            "  \"reaQFloHea_y\": 7010.742155025619,\n",
            "  \"reaCOP_y\": 3.043211728297327,\n",
            "  \"weaSta_reaWeaTWetBul_y\": 274.0725231254112,\n",
            "  \"weaSta_reaWeaTDewPoi_y\": 273.2026041666666,\n",
            "  \"weaSta_reaWeaWinSpe_y\": 3.35,\n",
            "  \"weaSta_reaWeaLon_y\": 0.07906341511534314,\n",
            "  \"time\": 1384200,\n",
            "  \"weaSta_reaWeaLat_y\": 0.8883725892651138,\n",
            "  \"weaSta_reaWeaTDryBul_y\": 274.70916666666665,\n",
            "  \"weaSta_reaWeaCeiHei_y\": 13031.249999999998,\n",
            "  \"weaSta_reaWeaSolHouAng_y\": 97.29401132128827,\n",
            "  \"oveFan_activate\": 0,\n",
            "  \"oveFan_u\": 1\n",
            "}\n"
          ]
        }
      ]
    },
    {
      "cell_type": "markdown",
      "source": [
        "\n",
        "\n",
        "---\n",
        "\n"
      ],
      "metadata": {
        "id": "MwSsp5vvRShn"
      }
    },
    {
      "cell_type": "markdown",
      "source": [
        "## Interacting with your test:\n",
        "## What are the inputs available for the testcase you selected? the GET `/inputs` API\n",
        "\n",
        "The GET `/inputs` API will return what variables you can/have to set in the particular testcase you selected. \n",
        "\n",
        "The API response will tell you what are \n",
        "1. The minimum values for the variable.\n",
        "2. A short description of the variable, \n",
        "3. The unit for the variable.\n",
        "4. The maximum value for the variable. \n",
        "\n",
        " "
      ],
      "metadata": {
        "id": "KipWiffq-bPd"
      }
    },
    {
      "cell_type": "code",
      "source": [
        "# Get inputs available\n",
        "inputs = requests.get(f'{BOPTEST_URL}/inputs/{test_id}').json()\n",
        "\n",
        "print_BOPTEST_response(inputs)"
      ],
      "metadata": {
        "colab": {
          "base_uri": "https://localhost:8080/"
        },
        "id": "BcrpwTyuK7Ij",
        "outputId": "ba162880-2e1b-4e01-d384-601369bacc24"
      },
      "execution_count": null,
      "outputs": [
        {
          "output_type": "stream",
          "name": "stdout",
          "text": [
            "Queried the inputs successfully.\n",
            "The payload is {\n",
            "  \"oveTSet_activate\": {\n",
            "    \"Minimum\": null,\n",
            "    \"Description\": \"Activation for Zone operative temperature setpoint\",\n",
            "    \"Unit\": null,\n",
            "    \"Maximum\": null\n",
            "  },\n",
            "  \"ovePum_activate\": {\n",
            "    \"Minimum\": null,\n",
            "    \"Description\": \"Activation for Integer signal to control the emission circuit pump either on or off\",\n",
            "    \"Unit\": null,\n",
            "    \"Maximum\": null\n",
            "  },\n",
            "  \"ovePum_u\": {\n",
            "    \"Minimum\": 0,\n",
            "    \"Description\": \"Integer signal to control the emission circuit pump either on or off\",\n",
            "    \"Unit\": \"1\",\n",
            "    \"Maximum\": 1\n",
            "  },\n",
            "  \"oveHeaPumY_u\": {\n",
            "    \"Minimum\": 0,\n",
            "    \"Description\": \"Heat pump modulating signal for compressor speed between 0 (not working) and 1 (working at maximum capacity)\",\n",
            "    \"Unit\": \"1\",\n",
            "    \"Maximum\": 1\n",
            "  },\n",
            "  \"oveTSet_u\": {\n",
            "    \"Minimum\": 278.15,\n",
            "    \"Description\": \"Zone operative temperature setpoint\",\n",
            "    \"Unit\": \"K\",\n",
            "    \"Maximum\": 308.15\n",
            "  },\n",
            "  \"oveHeaPumY_activate\": {\n",
            "    \"Minimum\": null,\n",
            "    \"Description\": \"Activation for Heat pump modulating signal for compressor speed between 0 (not working) and 1 (working at maximum capacity)\",\n",
            "    \"Unit\": null,\n",
            "    \"Maximum\": null\n",
            "  },\n",
            "  \"oveFan_activate\": {\n",
            "    \"Minimum\": null,\n",
            "    \"Description\": \"Activation for Integer signal to control the heat pump evaporator fan either on or off\",\n",
            "    \"Unit\": null,\n",
            "    \"Maximum\": null\n",
            "  },\n",
            "  \"oveFan_u\": {\n",
            "    \"Minimum\": 0,\n",
            "    \"Description\": \"Integer signal to control the heat pump evaporator fan either on or off\",\n",
            "    \"Unit\": \"1\",\n",
            "    \"Maximum\": 1\n",
            "  }\n",
            "}\n"
          ]
        }
      ]
    },
    {
      "cell_type": "markdown",
      "source": [
        "### How to change the input values for the next control step:\n",
        "\n",
        "\n",
        "The input variables can be set to desired values in a python dictionary."
      ],
      "metadata": {
        "id": "KDRFpla6B55B"
      }
    },
    {
      "cell_type": "code",
      "source": [
        "# Example input dictionary\n",
        "u = {'oveHeaPumY_u':0.5,\n",
        "     'oveHeaPumY_activate': 1}"
      ],
      "metadata": {
        "id": "abDNymhjCCU0"
      },
      "execution_count": null,
      "outputs": []
    },
    {
      "cell_type": "markdown",
      "source": [
        "### Advancing with the new input values\n",
        "\n",
        "The input dictionary be sent as an /advance call body. This will cause the simulation to advance by one step with the new inputs. "
      ],
      "metadata": {
        "id": "RxB28EdUuBb9"
      }
    },
    {
      "cell_type": "code",
      "source": [
        "# advance with u\n",
        "y = requests.post(f'{BOPTEST_URL}/advance/{test_id}', data=u).json()"
      ],
      "metadata": {
        "id": "KON462DYudf6"
      },
      "execution_count": null,
      "outputs": []
    },
    {
      "cell_type": "markdown",
      "source": [
        "You will see the effects of this changed inputs in the response payload."
      ],
      "metadata": {
        "id": "yLySZ7hkKzJd"
      }
    },
    {
      "cell_type": "code",
      "source": [
        "print_BOPTEST_response(y)"
      ],
      "metadata": {
        "colab": {
          "base_uri": "https://localhost:8080/"
        },
        "id": "TMFTFHmeKcGi",
        "outputId": "3b08efec-bb18-4d23-ab57-398eb3b0666c"
      },
      "execution_count": null,
      "outputs": [
        {
          "output_type": "stream",
          "name": "stdout",
          "text": [
            "Advanced simulation successfully from 1384200.0s to 1386000.0s.\n",
            "The payload is {\n",
            "  \"ovePum_activate\": 0,\n",
            "  \"weaSta_reaWeaNOpa_y\": 0.6000000000000001,\n",
            "  \"reaPFan_y\": 510.20408163265313,\n",
            "  \"oveTSet_u\": 294.34999999999997,\n",
            "  \"reaQHeaPumCon_y\": 6238.009336686093,\n",
            "  \"reaTRet_y\": 302.06326258254757,\n",
            "  \"weaSta_reaWeaPAtm_y\": 101325,\n",
            "  \"weaSta_reaWeaTBlaSky_y\": 263.1259141058702,\n",
            "  \"reaQHeaPumEva_y\": -4123.724172705812,\n",
            "  \"weaSta_reaWeaNTot_y\": 0.6000000000000001,\n",
            "  \"weaSta_reaWeaSolAlt_y\": -1.0485334341454244,\n",
            "  \"reaTZon_y\": 294.5494328566635,\n",
            "  \"weaSta_reaWeaHHorIR_y\": 272,\n",
            "  \"weaSta_reaWeaSolTim_y\": 1382888.2797402868,\n",
            "  \"oveHeaPumY_u\": 0.5,\n",
            "  \"weaSta_reaWeaCloTim_y\": 1386000,\n",
            "  \"oveHeaPumY_activate\": 1,\n",
            "  \"reaPPumEmi_y\": 20.498644281163177,\n",
            "  \"weaSta_reaWeaHGloHor_y\": 0,\n",
            "  \"weaSta_reaWeaHDifHor_y\": 0,\n",
            "  \"oveTSet_activate\": 0,\n",
            "  \"weaSta_reaWeaRelHum_y\": 0.89,\n",
            "  \"reaTSetHea_y\": 294.15,\n",
            "  \"reaCO2RooAir_y\": 775.9299608657485,\n",
            "  \"weaSta_reaWeaSolDec_y\": -0.36685410880578145,\n",
            "  \"ovePum_u\": 1,\n",
            "  \"reaPHeaPum_y\": 2114.2851640251833,\n",
            "  \"weaSta_reaWeaHDirNor_y\": 0,\n",
            "  \"reaTSetCoo_y\": 297.15,\n",
            "  \"weaSta_reaWeaWinDir_y\": 4.363323129985824,\n",
            "  \"reaTSup_y\": 305.05150868592756,\n",
            "  \"weaSta_reaWeaSolZen_y\": 2.619329760940321,\n",
            "  \"reaQFloHea_y\": 6348.954029660924,\n",
            "  \"reaCOP_y\": 2.9504105892746035,\n",
            "  \"weaSta_reaWeaTWetBul_y\": 274.08486424837946,\n",
            "  \"weaSta_reaWeaTDewPoi_y\": 273.15,\n",
            "  \"weaSta_reaWeaWinSpe_y\": 3.1,\n",
            "  \"weaSta_reaWeaLon_y\": 0.07906341511534314,\n",
            "  \"time\": 1386000,\n",
            "  \"weaSta_reaWeaLat_y\": 0.8883725892651138,\n",
            "  \"weaSta_reaWeaTDryBul_y\": 274.75,\n",
            "  \"weaSta_reaWeaCeiHei_y\": 1500,\n",
            "  \"weaSta_reaWeaSolHouAng_y\": 97.42488096602852,\n",
            "  \"oveFan_activate\": 0,\n",
            "  \"oveFan_u\": 1\n",
            "}\n"
          ]
        }
      ]
    },
    {
      "cell_type": "markdown",
      "source": [
        "\n",
        "---"
      ],
      "metadata": {
        "id": "37rmdQ5LRfJs"
      }
    },
    {
      "cell_type": "markdown",
      "source": [
        "## Dynamically changing the inputs at every step: Make your own controller? \n",
        "\n",
        "A controller is an object that changes the input values for the next step based on the results from the last step. \n",
        "\n",
        "In the next cell you can see a basic controller implementation, which we have taken from <>."
      ],
      "metadata": {
        "id": "EviiJdErvH1o"
      }
    },
    {
      "cell_type": "code",
      "source": [
        "class Controller_Proportional(object):\n",
        "    \n",
        "    def __init__(self, TSet=273.15+21, k_p=10.):\n",
        "        '''Constructor.\n",
        "\n",
        "        Parameters\n",
        "        ----------\n",
        "        TSet : float, optional\n",
        "            Temperature set-point in Kelvin.\n",
        "        k_p : float, optional\n",
        "            Proportional gain. \n",
        "            \n",
        "        '''\n",
        "        \n",
        "        self.TSet = TSet\n",
        "        self.k_p  = k_p\n",
        "    \n",
        "    def compute_control(self, y):\n",
        "        '''Compute the control input from the measurement.\n",
        "    \n",
        "        Parameters\n",
        "        ----------\n",
        "        y : dict\n",
        "            Contains the current values of the measurements.\n",
        "            {<measurement_name>:<measurement_value>}\n",
        "    \n",
        "        Returns\n",
        "        -------\n",
        "        u : dict\n",
        "            Defines the control input to be used for the next step.\n",
        "            {<input_name> : <input_value>}\n",
        "    \n",
        "        '''\n",
        "    \n",
        "        # Compute control\n",
        "        if y['reaTZon_y']<self.TSet:\n",
        "            e = self.TSet - y['reaTZon_y']\n",
        "        else:\n",
        "            e = 0\n",
        "    \n",
        "        value = self.k_p*e\n",
        "        u = {'oveHeaPumY_u':value,\n",
        "             'oveHeaPumY_activate': 1}\n",
        "    \n",
        "        return u"
      ],
      "metadata": {
        "id": "d5LBV3E_vEWt"
      },
      "execution_count": null,
      "outputs": []
    },
    {
      "cell_type": "markdown",
      "source": [
        "## Using your own controller with BOPTEST:"
      ],
      "metadata": {
        "id": "my7nTW-yyTK1"
      }
    },
    {
      "cell_type": "code",
      "source": [
        "# Initialize scenario\n",
        "y = requests.put(f'{BOPTEST_URL}/scenario/{test_id}', \n",
        "                 data={'time_period':'peak_heat_day',\n",
        "                       'electricity_price':'dynamic'}).json()['payload']['time_period']\n",
        "\n",
        "# Get the start time of the simulation\n",
        "start_time_days = y['time']/24/3600\n",
        "print(f\"Start time of the simulation is {start_time_days} days from start of the year.\")\n",
        "\n",
        "# Set control step\n",
        "requests.put(f'{BOPTEST_URL}/step/{test_id}', data={'step':3600})\n",
        "\n",
        "# Instantiate controller\n",
        "con = Controller_Proportional(TSet=273.15+21, k_p=5.)\n"
      ],
      "metadata": {
        "colab": {
          "base_uri": "https://localhost:8080/"
        },
        "id": "1YeFlT70yX94",
        "outputId": "0f3d88a3-b189-4aef-fd2d-eb6f93dea1e2"
      },
      "execution_count": null,
      "outputs": [
        {
          "output_type": "stream",
          "name": "stdout",
          "text": [
            "Start time of the simulation is 16.0 days from start of the year.\n"
          ]
        }
      ]
    },
    {
      "cell_type": "code",
      "source": [
        "# Simulation loop\n",
        "from IPython.display import clear_output\n",
        "while y:\n",
        "    # Clear the display output at each step\n",
        "    clear_output(wait=True)\n",
        "    # Print the current operative temperature and simulation time\n",
        "    print('-------------------------------------------------------------------')\n",
        "    print('Operative temperature [degC]  = {:.2f}'.format(y['reaTZon_y']-273.15))\n",
        "    simulation_time_days = y['time']/3600/24\n",
        "    print('Simulation time [elapsed days] = {:.2f}'.format((simulation_time_days - \\\n",
        "                                                    start_time_days)))\n",
        "    print('-------------------------------------------------------------------')\n",
        "    # Compute control signal \n",
        "    u = con.compute_control(y)\n",
        "    # Advance simulation with control signal\n",
        "    y = requests.post(f'{BOPTEST_URL}/advance/{test_id}', data=u).json()['payload']"
      ],
      "metadata": {
        "colab": {
          "base_uri": "https://localhost:8080/"
        },
        "id": "TTBSANCzYIGF",
        "outputId": "6e5dd92b-8a39-435d-a96f-228434a0ab6d"
      },
      "execution_count": null,
      "outputs": [
        {
          "output_type": "stream",
          "name": "stdout",
          "text": [
            "-------------------------------------------------------------------\n",
            "Operative temperature [degC]  = 20.80\n",
            "Simulation time [elapsed days] = 14.00\n",
            "-------------------------------------------------------------------\n"
          ]
        }
      ]
    },
    {
      "cell_type": "markdown",
      "source": [
        "## How did your controller do? Looking at the KPIs:\n",
        "\n",
        "KPIs(Key Performance Indicators) are a set of quantifiable measurements that will help you guage certain aspects of the controller performance. KPIs can be used to compare different controllers. For BOPTEST v0.3 we have the following KPIs: \n",
        "\n",
        "```\n",
        "{\n",
        "    \"cost_tot\":<value>,     // float, HVAC energy cost in $/m2 or Euro/m2\n",
        "    \"emis_tot\":<value>,     // float, HVAC energy emissions in kgCO2e/m2\n",
        "    \"ener_tot\":<value>,     // float, HVAC energy total in kWh/m2\n",
        "    \"pele_tot\":<value>,     // float, HVAC peak electrical demand in kW/m2\n",
        "    \"pgas_tot\":<value>,     // float, HVAC peak gas demand in kW/m2\n",
        "    \"pdih_tot\":<value>,     // float, HVAC peak district heating demand in kW/m2\n",
        "    \"idis_tot\":<value>,     // float, Indoor air quality discomfort in ppmh/zone\n",
        "    \"tdis_tot\":<value>,     // float, Thermal discomfort in Kh/zone\n",
        "    \"time_rat\":<value>      // float, Computational time ratio in s/ss\n",
        "}\n",
        "```\n",
        "\n",
        "A GET `/kpi` request as shown below will tell you the KPIs calculated from the simulation start time till current simulation time. The warmup period is not taken into account for the KPI calculations. KPIs are usually calculated at the end of the simulation. "
      ],
      "metadata": {
        "id": "EB9NY-1byru8"
      }
    },
    {
      "cell_type": "code",
      "source": [
        "kpi_response = requests.get(f'{BOPTEST_URL}/kpi/{test_id}').json()\n",
        "print_BOPTEST_response(kpi_response)"
      ],
      "metadata": {
        "colab": {
          "base_uri": "https://localhost:8080/"
        },
        "id": "HGreGNokXMqh",
        "outputId": "cee9d8fd-72af-4bc4-afe9-f86384c26d8a"
      },
      "execution_count": null,
      "outputs": [
        {
          "output_type": "stream",
          "name": "stdout",
          "text": [
            "Queried KPIs successfully.\n",
            "The payload is {\n",
            "  \"tdis_tot\": 19.876021766419118,\n",
            "  \"idis_tot\": 0,\n",
            "  \"ener_tot\": 2.731379921546184,\n",
            "  \"cost_tot\": 0.6932941788657855,\n",
            "  \"emis_tot\": 0.4561404468982127,\n",
            "  \"pele_tot\": 0.020371771206436497,\n",
            "  \"pgas_tot\": null,\n",
            "  \"pdih_tot\": null,\n",
            "  \"time_rat\": 0.00011148731562315414\n",
            "}\n"
          ]
        }
      ]
    },
    {
      "cell_type": "markdown",
      "source": [
        "## Stopping the test:\n",
        "\n",
        "The PUT `/stop` request will stop the testcase as shown below.\n",
        "\n",
        "\n",
        "\n",
        "### Why it is important to stop tests? \n",
        "There are only a limited web-service resources available for running tests. If all the available resources are being used, the next incoming test will be queued up till the resources get freed up. So it's up to you to be responsible for your own tests. Take note of your test_id, and stop the test as soon as you are done using it.  "
      ],
      "metadata": {
        "id": "VSuiZTEpyvzQ"
      }
    },
    {
      "cell_type": "code",
      "source": [
        "stop_response = requests.put(f\"{BOPTEST_URL}/stop/{test_id}\")\n",
        "if stop_response.status_code == 200:\n",
        "  print(\"Successfully stopped the test!\")\n",
        "else:\n",
        "  print(f\"Couldn't stop test with status code: {stop_response.status_code}!\")\n"
      ],
      "metadata": {
        "colab": {
          "base_uri": "https://localhost:8080/"
        },
        "id": "VLsLSESXaooJ",
        "outputId": "df245295-3430-4ef2-f05f-54b36991d9b5"
      },
      "execution_count": null,
      "outputs": [
        {
          "output_type": "stream",
          "name": "stdout",
          "text": [
            "Successfully stopped the test!\n"
          ]
        }
      ]
    },
    {
      "cell_type": "code",
      "source": [],
      "metadata": {
        "id": "muf8YqXugGm0"
      },
      "execution_count": null,
      "outputs": []
    }
  ]
}