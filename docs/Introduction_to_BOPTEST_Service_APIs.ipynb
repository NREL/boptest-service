{
  "nbformat": 4,
  "nbformat_minor": 0,
  "metadata": {
    "colab": {
      "provenance": [],
      "collapsed_sections": []
    },
    "kernelspec": {
      "name": "python3",
      "display_name": "Python 3"
    },
    "language_info": {
      "name": "python"
    }
  },
  "cells": [
    {
      "cell_type": "markdown",
      "source": [
        "# BOPTEST Service APIs\n",
        "\n",
        "This notebook introduces the BOPTEST-Service APIs, which will work with BOPTEST version 0.3:\n",
        "\n",
        "These APIS are based on HTTP REST framework. \n",
        "\n",
        "\n",
        "## Authentication\n",
        "We will soon begin optional authentication with the BOPTEST dashboard username. You can create a BOPTEST username in the dashboard.boptest.net website. This username will be sent along with the API calls in as the Authentication parameter in the API header. If you are authenticated, you will be able to track your test status on the dashboard. \n",
        "\n"
      ],
      "metadata": {
        "id": "sY9FCj3WMn-w"
      }
    },
    {
      "cell_type": "markdown",
      "source": [
        "We start with a short setup that imports the requests and json Python modules. We also define the url to the BOPTEST server. We have set it to the BOPTEST API as default but feel free to change it to another server if you want to. "
      ],
      "metadata": {
        "id": "9GWMIfm-e4zD"
      }
    },
    {
      "cell_type": "code",
      "source": [
        "import requests\n",
        "import json\n",
        "\n",
        "BOPTEST_URL = 'https://api.boptest.net'\n",
        "\n",
        "def pretty_print_JSON(json_object):\n",
        "  print(json.dumps(json_object, indent=2))\n",
        "\n",
        "def print_BOPTEST_response(response):\n",
        "  print(response['message'])\n",
        "\n",
        "  if response['status'] == 200:\n",
        "    payload = response['payload']\n",
        "    print(f'The payload is {payload}')\n"
      ],
      "metadata": {
        "id": "7nZjDXLxM6Y7"
      },
      "execution_count": 52,
      "outputs": []
    },
    {
      "cell_type": "markdown",
      "source": [
        "## 1. The `/testcases` API:\n",
        "\n",
        "The /testcases API tells you which testcases are already available for use on the BOPTEST server. This is an HTTP GET request which is prefixed by the BOPTEST server URL. "
      ],
      "metadata": {
        "id": "5NIeKvkIMuoc"
      }
    },
    {
      "cell_type": "code",
      "execution_count": 2,
      "metadata": {
        "colab": {
          "base_uri": "https://localhost:8080/"
        },
        "id": "aiKANXkxIhUB",
        "outputId": "8ecadd65-3c60-43a2-e13a-eeed5c4395ec"
      },
      "outputs": [
        {
          "output_type": "stream",
          "name": "stdout",
          "text": [
            "[\n",
            "  {\n",
            "    \"testcaseid\": \"bestest_air\"\n",
            "  },\n",
            "  {\n",
            "    \"testcaseid\": \"bestest_hydronic\"\n",
            "  },\n",
            "  {\n",
            "    \"testcaseid\": \"bestest_hydronic_heat_pump\"\n",
            "  },\n",
            "  {\n",
            "    \"testcaseid\": \"multizone_residential_hydronic\"\n",
            "  },\n",
            "  {\n",
            "    \"testcaseid\": \"singlezone_commercial_hydronic\"\n",
            "  },\n",
            "  {\n",
            "    \"testcaseid\": \"testcase1\"\n",
            "  }\n",
            "]\n"
          ]
        }
      ],
      "source": [
        "all_testcases = requests.get(f\"{BOPTEST_URL}/testcases\")\n",
        "pretty_print_JSON(all_testcases.json()[:6]) # Printing out the first six testcases"
      ]
    },
    {
      "cell_type": "markdown",
      "source": [
        "# 2. GET `testcases/{testcase_name}` API"
      ],
      "metadata": {
        "id": "_diXhxpYOim1"
      }
    },
    {
      "cell_type": "code",
      "source": [
        "testcase_names = [\"multizone_office_simple_air\", \"example_testcase_not_present\"]\n",
        "\n",
        "for testcase_name in testcase_names:\n",
        "  testcase_presence = requests.get(f\"{BOPTEST_URL}/testcases/{testcase_name}\")\n",
        " \n",
        "  if testcase_presence.status_code == 200:\n",
        "    print(f\"Yes! \\\"{testcase_name}\\\" is present!\")\n",
        "  else:\n",
        "    print(f\"Failed to confirm \\\"{testcase_name}\\\" presence with response code returning {testcase_presence.status_code} :\\\\\")"
      ],
      "metadata": {
        "colab": {
          "base_uri": "https://localhost:8080/"
        },
        "id": "u7ixmyR3OiMT",
        "outputId": "e8339c52-34ce-4299-d908-f715f5798d57"
      },
      "execution_count": 3,
      "outputs": [
        {
          "output_type": "stream",
          "name": "stdout",
          "text": [
            "Yes! \"multizone_office_simple_air\" is present!\n",
            "Failed to confirm \"example_testcase_not_present\" presence with response code returning 404 :\\\n"
          ]
        }
      ]
    },
    {
      "cell_type": "markdown",
      "source": [
        "# 3. POST `testcases/{testcase_name}/select` API \n",
        "> AND\n",
        "# 4. PUT `stop/{testid}`\n",
        "\n",
        "\n",
        "We will go through both of these together. Since we want to `/stop` any tests we `/select` as soon as we think those tests are no longer necessary. \n"
      ],
      "metadata": {
        "id": "NttMneB-UBWQ"
      }
    },
    {
      "cell_type": "markdown",
      "source": [
        "## The `test_id`: \n",
        "\n",
        "The `test_id` is a unique identifier for each test. Most of the test specific BOPTEST API's require the `test_id` if you want to interact with the test. You get the `test_id` as a return value when you call the `/select` API.  "
      ],
      "metadata": {
        "id": "Ww7yWNyd7srG"
      }
    },
    {
      "cell_type": "code",
      "source": [
        "testcase_name = \"bestest_hydronic_heat_pump\"\n",
        "\n",
        "test_id = requests.post(f\"{BOPTEST_URL}/testcases/{testcase_name}/select\").json()['testid']\n",
        "print(f\"The test id for this particular test is {test_id}.\")"
      ],
      "metadata": {
        "id": "G8f9m6M_NTkg",
        "colab": {
          "base_uri": "https://localhost:8080/"
        },
        "outputId": "157c6ade-1056-470a-c7ad-47b0c27ad526"
      },
      "execution_count": 18,
      "outputs": [
        {
          "output_type": "stream",
          "name": "stdout",
          "text": [
            "The test id for this particular test is e22b5a38-f27f-40f3-bceb-bf4b06a2413c.\n"
          ]
        }
      ]
    },
    {
      "cell_type": "markdown",
      "source": [
        "## Getting to know your test:\n",
        "\n",
        "### Scenarios:"
      ],
      "metadata": {
        "id": "iAwb802WQ6jT"
      }
    },
    {
      "cell_type": "markdown",
      "source": [
        "### Test measurements:"
      ],
      "metadata": {
        "id": "OI0dPty_Ta-g"
      }
    },
    {
      "cell_type": "markdown",
      "source": [
        "### The control step:\n",
        "\n",
        "\n",
        "This variable defines how much time the simulation will move forward at each step. \n",
        "There is a default value for the control step, so you don't have to set it if you don't want to. \n"
      ],
      "metadata": {
        "id": "XAj7OaFXaTP2"
      }
    },
    {
      "cell_type": "markdown",
      "source": [
        "#### Getting the current/default control step: The GET `/step` API\n",
        "\n",
        "This GET request will tell you what is the current control step is:"
      ],
      "metadata": {
        "id": "cqnBXE3zaa2e"
      }
    },
    {
      "cell_type": "code",
      "source": [
        "# Get default control step\n",
        "response = requests.get(f'{BOPTEST_URL}/step/{test_id}').json()\n",
        "print(response['message'])\n",
        "\n",
        "if response['status'] == 200:\n",
        "  step = response['payload']\n",
        "  print(f'The default step period is {step}s.')\n"
      ],
      "metadata": {
        "colab": {
          "base_uri": "https://localhost:8080/"
        },
        "id": "rK_ABSFGVxlQ",
        "outputId": "9d6fe31f-59b5-4349-c547-989c75e7ec4e"
      },
      "execution_count": 48,
      "outputs": [
        {
          "output_type": "stream",
          "name": "stdout",
          "text": [
            "Queried the control step successfully.\n",
            "The default step period is 1800s.\n"
          ]
        }
      ]
    },
    {
      "cell_type": "markdown",
      "source": [
        "#### Setting your own control step: The PUT `/step` API\n",
        "\n",
        "There is a PUT `/step` API which allows you to set your own control step in seconds:"
      ],
      "metadata": {
        "id": "T13l1CeLe5fn"
      }
    },
    {
      "cell_type": "code",
      "source": [
        "# Set the control step\n",
        "response = requests.put(f'{BOPTEST_URL}/step/{test_id}', data={'step':1800}).json()\n",
        "print(response['message'])\n",
        "\n",
        "if response['status'] == 200:\n",
        "  step = response['payload']\n",
        "  print(f'The control step period was set to {step}s.')\n"
      ],
      "metadata": {
        "colab": {
          "base_uri": "https://localhost:8080/"
        },
        "id": "EO9p8HsBM0Nm",
        "outputId": "dee8f7fb-dfde-490d-fda0-40396af17177"
      },
      "execution_count": 46,
      "outputs": [
        {
          "output_type": "stream",
          "name": "stdout",
          "text": [
            "Control step set successfully.\n",
            "The control step period was set to {'step': 1800}s.\n"
          ]
        }
      ]
    },
    {
      "cell_type": "code",
      "source": [
        "# Check the control step now with the GET /step API:\n",
        "response = requests.get(f'{BOPTEST_URL}/step/{test_id}').json()\n",
        "print(response['message'])\n",
        "\n",
        "if response['status'] == 200:\n",
        "  step = response['payload']\n",
        "  print(f'The control step period now is {step}s.')"
      ],
      "metadata": {
        "colab": {
          "base_uri": "https://localhost:8080/"
        },
        "id": "pvsrbGgTfFOc",
        "outputId": "5a003dc4-e18c-4d37-8673-98bd59492b26"
      },
      "execution_count": 47,
      "outputs": [
        {
          "output_type": "stream",
          "name": "stdout",
          "text": [
            "Queried the control step successfully.\n",
            "The control step period now is 1800s.\n"
          ]
        }
      ]
    },
    {
      "cell_type": "markdown",
      "source": [
        "\n",
        "\n",
        "---\n",
        "\n"
      ],
      "metadata": {
        "id": "FcYNTTJURPEA"
      }
    },
    {
      "cell_type": "markdown",
      "source": [
        "## Moving forward with the simulation: The `/advance` API:\n",
        "\n",
        "You move the simulation forward using the `/advance` API. One call of the `/advance` API will move the simulation forward by one control step that we defined before. "
      ],
      "metadata": {
        "id": "7ziIAJUQsYXH"
      }
    },
    {
      "cell_type": "markdown",
      "source": [
        "### Responses of the `/advance` API call:\n",
        "The payload of the /advance call will show you the values of the current measurements. "
      ],
      "metadata": {
        "id": "C9FO-Iy-Toit"
      }
    },
    {
      "cell_type": "code",
      "source": [
        "# A basic advance step\n",
        "y = requests.post(f'{BOPTEST_URL}/advance/{test_id}').json()\n",
        "print(y['message'])\n",
        "\n",
        "if y['status'] == 200:\n",
        "  print(\"The new measurements are\", y['payload'])"
      ],
      "metadata": {
        "colab": {
          "base_uri": "https://localhost:8080/"
        },
        "id": "iblF7UW_sXi7",
        "outputId": "2bc9686e-4761-4682-dac6-93c3c8d0ea75"
      },
      "execution_count": 38,
      "outputs": [
        {
          "output_type": "stream",
          "name": "stdout",
          "text": [
            "Advanced simulation successfully from 9000.0s to 10800.0s.\n",
            "The new measurements are {'ovePum_activate': 0, 'weaSta_reaWeaNOpa_y': 0.5, 'reaPFan_y': 510.20408163265313, 'oveTSet_u': 294.34999999999997, 'reaQHeaPumCon_y': 5770.2585306676065, 'reaTRet_y': 299.40617933272074, 'weaSta_reaWeaPAtm_y': 101325, 'weaSta_reaWeaTBlaSky_y': 258.292708653646, 'reaQHeaPumEva_y': -3742.9586342342636, 'weaSta_reaWeaNTot_y': 0.5, 'weaSta_reaWeaSolAlt_y': -0.906500406846257, 'reaTZon_y': 292.9681756591129, 'weaSta_reaWeaHHorIR_y': 252, 'weaSta_reaWeaSolTim_y': 8067.422175141299, 'oveHeaPumY_u': 0.5, 'weaSta_reaWeaCloTim_y': 10800, 'oveHeaPumY_activate': 1, 'reaPPumEmi_y': 20.498644281163177, 'weaSta_reaWeaHGloHor_y': 0, 'weaSta_reaWeaHDifHor_y': 0, 'oveTSet_activate': 0, 'weaSta_reaWeaRelHum_y': 0.6900000000000001, 'reaTSetHea_y': 294.15, 'reaCO2RooAir_y': 718.1218889169762, 'weaSta_reaWeaSolDec_y': -0.4027259272719727, 'ovePum_u': 1, 'reaPHeaPum_y': 2027.2998964915764, 'weaSta_reaWeaHDirNor_y': 0, 'reaTSetCoo_y': 297.15, 'weaSta_reaWeaWinDir_y': 3.490658503988659, 'reaTSup_y': 302.16993450373894, 'weaSta_reaWeaSolZen_y': 2.4772967336411535, 'reaQFloHea_y': 5829.567409737389, 'reaCOP_y': 2.846277721738927, 'weaSta_reaWeaTWetBul_y': 270.099008979639, 'weaSta_reaWeaTDewPoi_y': 267.25, 'weaSta_reaWeaWinSpe_y': 5.7, 'weaSta_reaWeaLon_y': 0.07906341511534314, 'time': 10800, 'weaSta_reaWeaLat_y': 0.8883725892651138, 'weaSta_reaWeaTDryBul_y': 271.75, 'weaSta_reaWeaCeiHei_y': 22000, 'weaSta_reaWeaSolHouAng_y': -2.55491315732055, 'oveFan_activate': 0, 'oveFan_u': 1}\n"
          ]
        }
      ]
    },
    {
      "cell_type": "markdown",
      "source": [
        "\n",
        "\n",
        "---\n",
        "\n"
      ],
      "metadata": {
        "id": "MwSsp5vvRShn"
      }
    },
    {
      "cell_type": "markdown",
      "source": [
        "## Interacting with your test:\n",
        "## What inputs are available for the testcase you selected? : the GET `/inputs` API\n",
        "\n",
        "The GET `/inputs` API will return what variables you can/have to set in the particular testcase you selected. \n",
        "\n",
        "The API return will tell you what are \n",
        "1. The minimum values for the variable.\n",
        "2. A short description of the variable, \n",
        "3. The unit for the variable.\n",
        "4. The maximum value for the variable. \n",
        "\n",
        " "
      ],
      "metadata": {
        "id": "KipWiffq-bPd"
      }
    },
    {
      "cell_type": "code",
      "source": [
        "# Get inputs available\n",
        "inputs = requests.get(f'{BOPTEST_URL}/inputs/{test_id}').json()\n",
        "print(inputs['message'])\n",
        "\n",
        "if inputs['status'] == 200:\n",
        "  print(\"The inputs are\", inputs['payload'])"
      ],
      "metadata": {
        "colab": {
          "base_uri": "https://localhost:8080/"
        },
        "id": "BcrpwTyuK7Ij",
        "outputId": "94938e64-020c-4f7c-98e1-6aea1af7bd71"
      },
      "execution_count": 49,
      "outputs": [
        {
          "output_type": "stream",
          "name": "stdout",
          "text": [
            "Queried the inputs successfully.\n",
            "The inputs are {'oveTSet_activate': {'Minimum': None, 'Description': 'Activation for Zone operative temperature setpoint', 'Unit': None, 'Maximum': None}, 'ovePum_activate': {'Minimum': None, 'Description': 'Activation for Integer signal to control the emission circuit pump either on or off', 'Unit': None, 'Maximum': None}, 'ovePum_u': {'Minimum': 0, 'Description': 'Integer signal to control the emission circuit pump either on or off', 'Unit': '1', 'Maximum': 1}, 'oveHeaPumY_u': {'Minimum': 0, 'Description': 'Heat pump modulating signal for compressor speed between 0 (not working) and 1 (working at maximum capacity)', 'Unit': '1', 'Maximum': 1}, 'oveTSet_u': {'Minimum': 278.15, 'Description': 'Zone operative temperature setpoint', 'Unit': 'K', 'Maximum': 308.15}, 'oveHeaPumY_activate': {'Minimum': None, 'Description': 'Activation for Heat pump modulating signal for compressor speed between 0 (not working) and 1 (working at maximum capacity)', 'Unit': None, 'Maximum': None}, 'oveFan_activate': {'Minimum': None, 'Description': 'Activation for Integer signal to control the heat pump evaporator fan either on or off', 'Unit': None, 'Maximum': None}, 'oveFan_u': {'Minimum': 0, 'Description': 'Integer signal to control the heat pump evaporator fan either on or off', 'Unit': '1', 'Maximum': 1}}\n"
          ]
        }
      ]
    },
    {
      "cell_type": "markdown",
      "source": [
        "### How to change the input values for the next control step:\n",
        "\n",
        "\n",
        "The input variables can be set to desired values in a python dictionary."
      ],
      "metadata": {
        "id": "KDRFpla6B55B"
      }
    },
    {
      "cell_type": "code",
      "source": [
        "# Example input dictionary\n",
        "u = {'oveHeaPumY_u':0.5,\n",
        "     'oveHeaPumY_activate': 1}"
      ],
      "metadata": {
        "id": "abDNymhjCCU0"
      },
      "execution_count": 26,
      "outputs": []
    },
    {
      "cell_type": "markdown",
      "source": [
        "### Advancing with the new input values\n",
        "\n",
        "The input dictionary be sent as an /advance call body. This will cause the simulation to advance by one step with the new inputs. "
      ],
      "metadata": {
        "id": "RxB28EdUuBb9"
      }
    },
    {
      "cell_type": "code",
      "source": [
        "# advance with u\n",
        "y = requests.post(f'{BOPTEST_URL}/advance/{test_id}', data=u).json()"
      ],
      "metadata": {
        "id": "KON462DYudf6"
      },
      "execution_count": 27,
      "outputs": []
    },
    {
      "cell_type": "markdown",
      "source": [
        "You will see the effects of this changed inputs in the response payload."
      ],
      "metadata": {
        "id": "yLySZ7hkKzJd"
      }
    },
    {
      "cell_type": "code",
      "source": [
        "print(y['message'])\n",
        "if y['status'] == 200:\n",
        "  print(\"The new measurements are\", y['payload'])"
      ],
      "metadata": {
        "colab": {
          "base_uri": "https://localhost:8080/"
        },
        "id": "TMFTFHmeKcGi",
        "outputId": "cb44a164-cc85-4069-e0cd-2b4bdb7e5f18"
      },
      "execution_count": 37,
      "outputs": [
        {
          "output_type": "stream",
          "name": "stdout",
          "text": [
            "Advanced simulation successfully from 7200.0s to 9000.0s.\n",
            "The new measurements are {'ovePum_activate': 0, 'weaSta_reaWeaNOpa_y': 0.275, 'reaPFan_y': 510.20408163265313, 'oveTSet_u': 294.34999999999997, 'reaQHeaPumCon_y': 6052.553419713639, 'reaTRet_y': 299.51334100258975, 'weaSta_reaWeaPAtm_y': 101325, 'weaSta_reaWeaTBlaSky_y': 258.74682385806346, 'reaQHeaPumEva_y': -4001.280588618656, 'weaSta_reaWeaNTot_y': 0.325, 'weaSta_reaWeaSolAlt_y': -0.9704608969219581, 'reaTZon_y': 292.9473181539115, 'weaSta_reaWeaHHorIR_y': 252.5625, 'weaSta_reaWeaSolTim_y': 6267.982794502697, 'oveHeaPumY_u': 0.5, 'weaSta_reaWeaCloTim_y': 9000, 'oveHeaPumY_activate': 1, 'reaPPumEmi_y': 20.498644281163177, 'weaSta_reaWeaHGloHor_y': 0, 'weaSta_reaWeaHDifHor_y': 0, 'oveTSet_activate': 0, 'weaSta_reaWeaRelHum_y': 0.6725, 'reaTSetHea_y': 294.15, 'reaCO2RooAir_y': 692.1705334189862, 'weaSta_reaWeaSolDec_y': -0.4027527643996826, 'ovePum_u': 1, 'reaPHeaPum_y': 2051.272831065368, 'weaSta_reaWeaHDirNor_y': 0, 'reaTSetCoo_y': 297.15, 'weaSta_reaWeaWinDir_y': 3.490658503988659, 'reaTSup_y': 302.41735763973605, 'weaSta_reaWeaSolZen_y': 2.5412572237168547, 'reaQFloHea_y': 6163.789903073195, 'reaCOP_y': 2.950633054780007, 'weaSta_reaWeaTWetBul_y': 271.3043678321963, 'weaSta_reaWeaTDewPoi_y': 268.259375, 'weaSta_reaWeaWinSpe_y': 5.375, 'weaSta_reaWeaLon_y': 0.07906341511534314, 'time': 9000, 'weaSta_reaWeaLat_y': 0.8883725892651138, 'weaSta_reaWeaTDryBul_y': 273.1772727272727, 'weaSta_reaWeaCeiHei_y': 22000, 'weaSta_reaWeaSolHouAng_y': -2.6857720818296795, 'oveFan_activate': 0, 'oveFan_u': 1}\n"
          ]
        }
      ]
    },
    {
      "cell_type": "markdown",
      "source": [
        "\n",
        "\n",
        "---\n",
        "\n"
      ],
      "metadata": {
        "id": "37rmdQ5LRfJs"
      }
    },
    {
      "cell_type": "markdown",
      "source": [
        "## Dynamically changing the inputs at every step: Make your own controller? \n",
        "\n",
        "A controller is an object that changes the input values for the next step based on the results from the last step. \n",
        "\n",
        "In the next cell you can see a basic controller implementation, which we have taken from <>."
      ],
      "metadata": {
        "id": "EviiJdErvH1o"
      }
    },
    {
      "cell_type": "code",
      "source": [
        "class Controller_Proportional(object):\n",
        "    \n",
        "    def __init__(self, TSet=273.15+21, k_p=10.):\n",
        "        '''Constructor.\n",
        "\n",
        "        Parameters\n",
        "        ----------\n",
        "        TSet : float, optional\n",
        "            Temperature set-point in Kelvin.\n",
        "        k_p : float, optional\n",
        "            Proportional gain. \n",
        "            \n",
        "        '''\n",
        "        \n",
        "        self.TSet = TSet\n",
        "        self.k_p  = k_p\n",
        "    \n",
        "    def compute_control(self, y):\n",
        "        '''Compute the control input from the measurement.\n",
        "    \n",
        "        Parameters\n",
        "        ----------\n",
        "        y : dict\n",
        "            Contains the current values of the measurements.\n",
        "            {<measurement_name>:<measurement_value>}\n",
        "    \n",
        "        Returns\n",
        "        -------\n",
        "        u : dict\n",
        "            Defines the control input to be used for the next step.\n",
        "            {<input_name> : <input_value>}\n",
        "    \n",
        "        '''\n",
        "    \n",
        "        # Compute control\n",
        "        if y['reaTZon_y']<self.TSet:\n",
        "            e = self.TSet - y['reaTZon_y']\n",
        "        else:\n",
        "            e = 0\n",
        "    \n",
        "        value = self.k_p*e\n",
        "        u = {'oveHeaPumY_u':value,\n",
        "             'oveHeaPumY_activate': 1}\n",
        "    \n",
        "        return u"
      ],
      "metadata": {
        "id": "d5LBV3E_vEWt"
      },
      "execution_count": 66,
      "outputs": []
    },
    {
      "cell_type": "markdown",
      "source": [
        "## Using your own controller with BOPTEST:"
      ],
      "metadata": {
        "id": "my7nTW-yyTK1"
      }
    },
    {
      "cell_type": "code",
      "source": [
        "# Initialize scenario\n",
        "y = requests.put(f'{BOPTEST_URL}/scenario/{test_id}', \n",
        "                 data={'time_period':'peak_heat_day',\n",
        "                       'electricity_price':'dynamic'}).json()['payload']['time_period']\n",
        "\n",
        "# Get the start time of the simulation\n",
        "start_time_days = y['time']/24/3600\n",
        "print(f\"Start time of the simulation is {start_time_days} days\")\n",
        "\n",
        "# Set control step\n",
        "requests.put(f'{BOPTEST_URL}/step/{test_id}', data={'step':3600})\n",
        "\n",
        "# Instantiate controller\n",
        "con = Controller_Proportional(TSet=273.15+21, k_p=5.)\n"
      ],
      "metadata": {
        "colab": {
          "base_uri": "https://localhost:8080/"
        },
        "id": "1YeFlT70yX94",
        "outputId": "d71f2980-bfa6-4785-cac1-2919bc003393"
      },
      "execution_count": 76,
      "outputs": [
        {
          "output_type": "stream",
          "name": "stdout",
          "text": [
            "Start time of the simulation is 16.0 days\n"
          ]
        }
      ]
    },
    {
      "cell_type": "code",
      "source": [
        "# Simulation loop\n",
        "from IPython.display import clear_output\n",
        "while y:\n",
        "    # Clear the display output at each step\n",
        "    clear_output(wait=True)\n",
        "    # Print the current operative temperature and simulation time\n",
        "    print('-------------------------------------------------------------------')\n",
        "    print('Operative temperature [degC]  = {:.2f}'.format(y['reaTZon_y']-273.15))\n",
        "    simulation_time_days = y['time']/3600/24\n",
        "    print('Simulation time [elapsed days] = {:.2f}'.format((simulation_time_days - \\\n",
        "                                                    start_time_days)))\n",
        "    print('-------------------------------------------------------------------')\n",
        "    # Compute control signal \n",
        "    u = con.compute_control(y)\n",
        "    # Advance simulation with control signal\n",
        "    y = requests.post(f'{BOPTEST_URL}/advance/{test_id}', data=u).json()['payload']"
      ],
      "metadata": {
        "colab": {
          "base_uri": "https://localhost:8080/"
        },
        "id": "TTBSANCzYIGF",
        "outputId": "e22a7339-5a40-4498-d0b6-0b281388d5e1"
      },
      "execution_count": 77,
      "outputs": [
        {
          "output_type": "stream",
          "name": "stdout",
          "text": [
            "-------------------------------------------------------------------\n",
            "Operative temperature [degC]  = 20.80\n",
            "Simulation time [elapsed days] = 14.00\n",
            "-------------------------------------------------------------------\n"
          ]
        }
      ]
    },
    {
      "cell_type": "markdown",
      "source": [
        "## KPIs:\n",
        "\n",
        "What are they?\n",
        "\n",
        "How to get them?"
      ],
      "metadata": {
        "id": "EB9NY-1byru8"
      }
    },
    {
      "cell_type": "code",
      "source": [
        "response = requests.get(f'{BOPTEST_URL}/kpi/{test_id}').json()\n",
        "\n",
        "print(response['message'])\n",
        "\n",
        "if response['status'] == 200:\n",
        "  payload = response['payload']\n",
        "  print(f'The response payload is {payload}.')\n"
      ],
      "metadata": {
        "colab": {
          "base_uri": "https://localhost:8080/"
        },
        "id": "HGreGNokXMqh",
        "outputId": "138a926a-aad9-4e97-9d1a-ec53c59c468c"
      },
      "execution_count": 51,
      "outputs": [
        {
          "output_type": "stream",
          "name": "stdout",
          "text": [
            "Queried KPIs successfully.\n",
            "The response payload is {'tdis_tot': 4.508723250280717, 'idis_tot': 0, 'ener_tot': 0.05004084973452596, 'cost_tot': 0.01268535540770233, 'emis_tot': 0.008356821905665834, 'pele_tot': 0.018718084575691674, 'pgas_tot': None, 'pdih_tot': None, 'time_rat': 0.09439101097318861}.\n"
          ]
        }
      ]
    },
    {
      "cell_type": "markdown",
      "source": [
        "## Stopping the test:\n",
        "\n",
        "### How to stop the test:\n",
        "\n",
        "\n",
        "### Why it is important to stop tests? \n",
        "There are only a limited number of workers available for running tests. If all the available workers are busy, the next incoming test will be queued up till one of the workers get freed up. So it's up to you to be responsible for your own tests. Take note of your test_id, and stop the test as soon as you are done using it.  "
      ],
      "metadata": {
        "id": "VSuiZTEpyvzQ"
      }
    },
    {
      "cell_type": "code",
      "source": [
        "stop_response = requests.put(f\"{BOPTEST_URL}/stop/{test_id}\")\n",
        "if stop_response.status_code == 200:\n",
        "  print(\"Successfully stopped the test!\")\n",
        "else:\n",
        "  print(f\"Couldn't stop test with status code: {stop_response.status_code}!\")\n"
      ],
      "metadata": {
        "colab": {
          "base_uri": "https://localhost:8080/"
        },
        "id": "VLsLSESXaooJ",
        "outputId": "d9fec5f6-ab6e-44ae-99cd-29fb7cb97518"
      },
      "execution_count": 83,
      "outputs": [
        {
          "output_type": "stream",
          "name": "stdout",
          "text": [
            "Couldn't stop test with status code: 500!\n"
          ]
        }
      ]
    },
    {
      "cell_type": "code",
      "source": [],
      "metadata": {
        "id": "muf8YqXugGm0"
      },
      "execution_count": null,
      "outputs": []
    }
  ]
}