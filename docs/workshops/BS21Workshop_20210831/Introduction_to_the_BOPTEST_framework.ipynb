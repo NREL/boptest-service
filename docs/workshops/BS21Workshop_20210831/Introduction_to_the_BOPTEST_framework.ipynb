{
  "cells": [
    {
      "cell_type": "markdown",
      "metadata": {
        "id": "view-in-github",
        "colab_type": "text"
      },
      "source": [
        "<a href=\"https://colab.research.google.com/github/ibpsa/project1-boptest/blob/master/docs/workshops/BS21Workshop_20210831/Introduction_to_the_BOPTEST_framework.ipynb\" target=\"_parent\"><img src=\"https://colab.research.google.com/assets/colab-badge.svg\" alt=\"Open In Colab\"/></a>"
      ]
    },
    {
      "cell_type": "markdown",
      "metadata": {
        "id": "UmPqk-NTH5Qt"
      },
      "source": [
        "**Goals and Outline**\n",
        "\n",
        "This is an introductory, hands-on tutorial to guide you through usage of the Building Optimization Testing (BOPTEST) framework for performance benchmarking of control algorithms.  The tutorial is split into four parts:\n",
        "\n",
        "- Part 1: (Presentation) Introduction to the BOPTEST Project, Goals, and Approach\n",
        "- Part 2: (Exercise) Introduction to the BOPTEST API and Sample Controller Testing\n",
        "- Part 3: (Presentation) Example Development and Evaluation of an MPC Controller\n",
        "- Part 4: (Exercise) Improving Controller Performance and Reporting Results\n",
        "- Part 5: Wrap-Up and Continued Usage\n",
        "\n",
        "This tutorial was prepared for use with BOPTEST v0.3.0. \n",
        "and will make usage of a web-based version of BOPTEST (called \"BOPTEST-Service\") so as not to require installation of any BOPTEST software on a user's own device.  Users are invited to also deploy BOPTEST on a user's own (local) device.  Both the web-based and local versions have the same functionality, and will produce the same results given the same version BOPTEST, with only small changes in the API.  More details on the deployment of BOPTEST on one's own device are explained in Part 5.\n",
        "\n",
        "\n"
      ]
    },
    {
      "cell_type": "markdown",
      "metadata": {
        "id": "3Ofjiy_aQjmG"
      },
      "source": [
        "\n",
        "\n",
        "---\n",
        "\n",
        "\n",
        "\n",
        "---\n",
        "\n",
        "\n",
        "\n",
        "\n"
      ]
    },
    {
      "cell_type": "markdown",
      "metadata": {
        "id": "FVmlH0jVPOpl"
      },
      "source": [
        "# **Part 1: (Presentation) Introduction to the BOPTEST Project, Goals, and Approach**\n"
      ]
    },
    {
      "cell_type": "markdown",
      "metadata": {
        "id": "0JIIEGa0QDfj"
      },
      "source": [
        "The BOPTEST framework enables the performance evaluation and benchmarking of advanced control algorithms for building HVAC control.  Software is developed and is available on the BOPTEST GitHub respository at [https://github.com/ibpsa/project1-boptest](https://github.com/ibpsa/project1-boptest), while more information on the project in general can be found at the project home page at [https://ibpsa.github.io/project1-boptest/](https://ibpsa.github.io/project1-boptest/).\n",
        "\n",
        "An introduction to the BOPTEST project, goals, and approach is given in the accompanying presentation *Introduction to the Building Optimization Testing Framework (BOPTEST)*."
      ]
    },
    {
      "cell_type": "markdown",
      "metadata": {
        "id": "f0XKBslSYbFr"
      },
      "source": [
        "---"
      ]
    },
    {
      "cell_type": "markdown",
      "metadata": {
        "id": "7DzxoICmQr5x"
      },
      "source": [
        "# **Part 2: (Exercise) Introduction to the BOPTEST API and Sample Controller Testing**"
      ]
    },
    {
      "cell_type": "markdown",
      "metadata": {
        "id": "qDs5BsW-RzMd"
      },
      "source": [
        "\n",
        "\n",
        "Now that we have an understanding of the BOPTEST project and framework approach, this exercise:\n",
        "\n",
        "1. Explains how to select a BOPTEST test case.\n",
        "2. Explores the BOPTEST API. \n",
        "3. Develops a simple example feedback controller to evaluate. \n",
        "\n",
        "As described in Part 1, BOPTEST test cases are developed as FMU's and deployed within a containerized environment using the [Docker](https://www.docker.com/) software with:\n",
        "\n",
        "*   A detailed emulator building model.\n",
        "*   Yearly boundary condition data for weather, schedules, pricing, and emission factors. These data are representative of the building location. \n",
        "*   An API that allows for, among other things, initializing a simulation or testing scenario, advancing a simulation with a control input, receiving forecast data, receiving emulator data, and receiving computed KPIs.  The full API is described [here](https://github.com/ibpsa/project1-boptest/tree/boptest-service#test-case-restful-api).\n",
        "\n",
        "The basic workflow to test a controller is:\n",
        "\n",
        "1.   Select a test case from the menu of those available. \n",
        "2.   Select one of the testing scenarios defined for the given test case. Testing scenarios are standardized for each emulator. \n",
        "3.   Set parameters for the interaction with your test controller, such as the control step or forecast horizon, if required.  \n",
        "4.   Run the test case scenario in a co-simulation loop with your controller. \n",
        "5.   Request the KPIs and evaluate your controller's performance. \n",
        "\n"
      ]
    },
    {
      "cell_type": "markdown",
      "metadata": {
        "id": "_3suztPl8UV-"
      },
      "source": [
        "## Selecting a Test Case\n"
      ]
    },
    {
      "cell_type": "markdown",
      "metadata": {
        "id": "jGBsMgoabG_i"
      },
      "source": [
        "\n",
        "We start by selecting and launching a test case from the [repository of currently available test cases](https://ibpsa.github.io/project1-boptest/testcases/index.html).  In this example, we are going to work with the test case called `bestest_hydronic_heat_pump`, which is a single-zone residential building with radiant floor heating and a heat pump. This is a high-fidelity, yet, relatively simple test case that allows us to focus on fundamental aspects of the framework.  You may want to note the other test cases available in the repository as well as the fact that there are more under development.  \n",
        "\n",
        "We can launch our chosen test case as follows.  First, import the Python `requests` library so that we can make HTTP requests to the BOPTEST API at the address indicated by the `url`.  Then, use the `POST /testcases/<test_case_name>/select` BOPTEST API endpoint to launch the test case and receive a corresponding `testid`.  While the `url` is the common gateway for everyone to access the BOPTEST web-service, the `testid` is a unique identifier for you to address the test case that you have selected and launched.   "
      ]
    },
    {
      "cell_type": "code",
      "execution_count": null,
      "metadata": {
        "id": "z_ACm1rcn2pt"
      },
      "outputs": [],
      "source": [
        "import requests\n",
        "\n",
        "# url for the BOPTEST service\n",
        "url = 'http://api.boptest.net' \n",
        "\n",
        "# Select test case and get identifier\n",
        "testcase = 'bestest_hydronic_heat_pump'\n",
        "# Check if already started a test case and stop it if so before starting another\n",
        "try:\n",
        "  requests.put('{0}/stop/{1}'.format(url, testid))\n",
        "except:\n",
        "  pass\n",
        "# Select and start a new test case\n",
        "testid = \\\n",
        "requests.post('{0}/testcases/{1}/select'.format(url,testcase)).json()['testid']\n"
      ]
    },
    {
      "cell_type": "markdown",
      "metadata": {
        "id": "Y5rUwmAcp27l"
      },
      "source": [
        "Once you have successfully obtained the `testid`, it is possible to start interacting with your selected test case using the rest of the BOPTEST API.  You will need this `testid` for all further interactions with this test case.  For example, use the `GET /name` BOPTEST API endpoint, along with your `testid`, to request the name of your test case and check that it matches the one we want."
      ]
    },
    {
      "cell_type": "code",
      "execution_count": null,
      "metadata": {
        "colab": {
          "base_uri": "https://localhost:8080/"
        },
        "id": "gEVOjOdgpTuS",
        "outputId": "bc9a27c5-7114-4302-8161-3689d189ca18"
      },
      "outputs": [
        {
          "output_type": "stream",
          "name": "stdout",
          "text": [
            "{'name': 'bestest_hydronic_heat_pump'}\n"
          ]
        }
      ],
      "source": [
        "# Get test case name\n",
        "name = requests.get('{0}/name/{1}'.format(url, testid)).json()['payload']\n",
        "print(name)\n"
      ]
    },
    {
      "cell_type": "markdown",
      "metadata": {
        "id": "ShI2rXTD2DJx"
      },
      "source": [
        "With our unique `testid` in-hand and having some practice using the BOPTEST API, we are ready to move on to exploring the API further.\n",
        "\n",
        "Note that the test case will timeout after 15 minutes of no requests.  If the test case times out, you can simply select and start a new one by repeating the steps described above."
      ]
    },
    {
      "cell_type": "markdown",
      "metadata": {
        "id": "6SS_OIn6aVCH"
      },
      "source": [
        "## Exploring the API\n",
        "\n"
      ]
    },
    {
      "cell_type": "markdown",
      "metadata": {
        "id": "CR75-VKMn3nZ"
      },
      "source": [
        "### Building Information\n",
        "\n",
        "The first thing we want to do is learn about the building and system that we want to control.  All building information can be found under \"detailed documentation\" link provided with the each [test case on the home page](https://ibpsa.github.io/project1-boptest/testcases/index.html).  For archived versions, it can be found in the documentation folder of the specific test case within the [repository](https://github.com/ibpsa/project1-boptest/tree/master/testcases) at: `/<testcasename>/doc/index.html`.  To access this file on your own, we recommend downloading the repository and opening the file in a web-browser.\n",
        "This file includes a description of the building envelope, the HVAC system design, the functioning of the baseline controller, available control inputs and measurement outputs, and available testing scenarios.  Understanding how the system works is an important practice for control design, so take as much time as needed to understand the equipment, the points that can be measured, and the points that can be overwritten by your controller. \n",
        "We briefly summarize the `bestest_hydronic_heat_pump` case here for completeness, but it is strongly recommended to have a deeper look into the documentation. \n",
        "\n",
        "The building represents a residential dwelling of 192 $m^2$ for a family of 5 members. \n",
        "An air-to-water modulating heat pump of 15 $kW$ nominal heating capacity extracts energy from the ambient air to heat up the floor heating emission system, as shown in the figure below. \n",
        "An evaporator fan blows ambient air through the heat pump evaporator when the heat pump is operating. \n",
        "The floor heating system injects heat into the floor using water as the working fluid.\n",
        "\n",
        "\n"
      ]
    },
    {
      "cell_type": "markdown",
      "metadata": {
        "id": "OCgg0ZThq3jP"
      },
      "source": [
        "![](https://drive.google.com/uc?export=view&id=1qAYEhwR3J8uABtmxmNeMetBWbGieLFcx)\n",
        "\n",
        "*Figure 1: Schematic of HVAC system and control for the `bestest_hydronic_heat_pump` test case.*\n",
        "\n",
        "\n"
      ]
    },
    {
      "cell_type": "markdown",
      "metadata": {
        "id": "zWFdCafzrEoX"
      },
      "source": [
        "A baseline controller is embedded in every test case emulator that is meant to be representative of a typical controller for that type of building.  The baseline controller includes local loop control such that supervisory set points may be the focus of a test controller, although many of those local loop control signals are also available for overwriting if a user chooses.  The baseline controller can also be considered an initial benchmark for control performance. \n",
        "\n",
        "In our selected test case, the baseline controller consists of a PI controller with the zone operative temperature as the controlled variable and the heat pump modulation signal for compressor frequency as the control variable, as depicted as C1 in Figure 1 above and shown in Figure 2 below. \n",
        "The control variable is limited between 0 and 1, and it is computed to drive the zone operative temperature towards its set point, which is defined as a function of the occupancy schedule. \n",
        "\n"
      ]
    },
    {
      "cell_type": "markdown",
      "metadata": {
        "id": "wnlCi15prLrW"
      },
      "source": [
        "\n",
        "![](https://drive.google.com/uc?export=view&id=1OC1ihYSdU3YUU7nKlqUwnzcbRyXxBtRu)\n",
        "\n",
        "*Figure 2: Primary PI controller C1.*\n",
        "\n",
        "\n"
      ]
    },
    {
      "cell_type": "markdown",
      "metadata": {
        "id": "0wnkkdIqrNHu"
      },
      "source": [
        "All other equipment (fan for the heat pump evaporator circuit and floor heating emission system pump) are switched on when the heat pump is working (modulating signal higher than 0) and switched off otherwise.  This is depicted in Figure 1 as controller C2."
      ]
    },
    {
      "cell_type": "markdown",
      "metadata": {
        "id": "7Xlo32C67vBL"
      },
      "source": [
        "### Getting Control Input and Measurement Points\n",
        "While control input and measurement points are described in the documentation, they are also available to retreive from the BOPTEST API.  This is especially useful to store for later when requesting data for a specific point.\n",
        "\n",
        "Retrieve the control input and measurement outputs using the `GET /inputs` and `GET /measurements` BOPTEST API endpoints."
      ]
    },
    {
      "cell_type": "code",
      "execution_count": null,
      "metadata": {
        "colab": {
          "base_uri": "https://localhost:8080/"
        },
        "id": "s3juiw8s1hH-",
        "outputId": "5c55d4d1-5c5a-4915-8f3e-69379dbecae8"
      },
      "outputs": [
        {
          "output_type": "stream",
          "name": "stdout",
          "text": [
            "TEST CASE INPUTS ---------------------------------------------\n",
            "dict_keys(['oveTSet_activate', 'ovePum_activate', 'ovePum_u', 'oveHeaPumY_u', 'oveTSet_u', 'oveHeaPumY_activate', 'oveFan_activate', 'oveFan_u'])\n",
            "TEST CASE MEASUREMENTS ---------------------------------------\n",
            "dict_keys(['weaSta_reaWeaPAtm_y', 'reaPFan_y', 'reaQHeaPumCon_y', 'reaTRet_y', 'weaSta_reaWeaNOpa_y', 'weaSta_reaWeaTBlaSky_y', 'reaQHeaPumEva_y', 'weaSta_reaWeaNTot_y', 'weaSta_reaWeaSolAlt_y', 'reaTZon_y', 'weaSta_reaWeaHHorIR_y', 'weaSta_reaWeaLon_y', 'weaSta_reaWeaSolTim_y', 'weaSta_reaWeaCloTim_y', 'reaPPumEmi_y', 'weaSta_reaWeaHGloHor_y', 'weaSta_reaWeaHDifHor_y', 'weaSta_reaWeaRelHum_y', 'reaTSetHea_y', 'reaCO2RooAir_y', 'weaSta_reaWeaSolDec_y', 'reaPHeaPum_y', 'weaSta_reaWeaHDirNor_y', 'reaTSetCoo_y', 'weaSta_reaWeaWinDir_y', 'reaTSup_y', 'weaSta_reaWeaSolZen_y', 'reaQFloHea_y', 'reaCOP_y', 'weaSta_reaWeaTDryBul_y', 'weaSta_reaWeaTWetBul_y', 'weaSta_reaWeaTDewPoi_y', 'weaSta_reaWeaWinSpe_y', 'weaSta_reaWeaLat_y', 'weaSta_reaWeaCeiHei_y', 'weaSta_reaWeaSolHouAng_y'])\n"
          ]
        }
      ],
      "source": [
        "# Get inputs available\n",
        "inputs = requests.get('{0}/inputs/{1}'.format(url, testid)).json()['payload']\n",
        "print('TEST CASE INPUTS ---------------------------------------------')\n",
        "print(inputs.keys())\n",
        "# Get measurements available\n",
        "print('TEST CASE MEASUREMENTS ---------------------------------------')\n",
        "measurements = requests.get('{0}/measurements/{1}'.format(url, testid)).json()['payload']\n",
        "print(measurements.keys())"
      ]
    },
    {
      "cell_type": "markdown",
      "metadata": {
        "id": "nmhgHsgL2ADY"
      },
      "source": [
        "The naming convention is such that the extension `_y` indicates a measurement point, `_u` indicates the value of an input which can be overwritten by a test controller, and `_activate` indicates the enabling (with value 0 or 1) of a test controller to overwrite the corresponding input value. \n",
        "Hence, `<varname>_u` is enabled for overwriting by the test controller when `<varname>_activate=1`.\n",
        "`weaSta_` indicates a measurement for a weather point, so that historical weather data can be easily retrieved.\n",
        "\n",
        "Notice that the jsons returned from the `GET /inputs` and `GET /measurements` BOPTEST API endpoints also include a description and unit of each variable, as well as the minimum and maximum value for inputs variables:\n"
      ]
    },
    {
      "cell_type": "code",
      "execution_count": null,
      "metadata": {
        "colab": {
          "base_uri": "https://localhost:8080/"
        },
        "id": "KXFpXuqv3t9Z",
        "outputId": "3cc866cc-af23-4e0a-cb0d-4235d773946b"
      },
      "outputs": [
        {
          "output_type": "stream",
          "name": "stdout",
          "text": [
            "Heat pump modulating signal for compressor speed between 0 (not working) and 1 (working at maximum capacity)\n",
            "1\n",
            "0\n",
            "1\n"
          ]
        }
      ],
      "source": [
        "print(inputs['oveHeaPumY_u']['Description'])\n",
        "print(inputs['oveHeaPumY_u']['Unit'])\n",
        "print(inputs['oveHeaPumY_u']['Minimum'])\n",
        "print(inputs['oveHeaPumY_u']['Maximum'])"
      ]
    },
    {
      "cell_type": "code",
      "execution_count": null,
      "metadata": {
        "colab": {
          "base_uri": "https://localhost:8080/"
        },
        "id": "9D_0KmXj4AWq",
        "outputId": "9e49f27b-768d-421a-8598-3f8cc1414929"
      },
      "outputs": [
        {
          "output_type": "stream",
          "name": "stdout",
          "text": [
            "Zone operative temperature\n",
            "K\n"
          ]
        }
      ],
      "source": [
        "print(measurements['reaTZon_y']['Description'])\n",
        "print(measurements['reaTZon_y']['Unit'])"
      ]
    },
    {
      "cell_type": "markdown",
      "metadata": {
        "id": "IWb-FDIo62B-"
      },
      "source": [
        "Note that if an input variable is overwritten with a value above/below its maximum/minimum bound, then the maximum/minimum value is used instead.\n",
        "\n",
        "Now that we understand the building and avaiable control input and measurements points, we are ready to initialize a simulation and test scenario."
      ]
    },
    {
      "cell_type": "markdown",
      "metadata": {
        "id": "1HEafdhfid4C"
      },
      "source": [
        "### Initializing a Simulation and Scenario\n"
      ]
    },
    {
      "cell_type": "markdown",
      "metadata": {
        "id": "x1_CEzKE7XKu"
      },
      "source": [
        "A co-simulation between your test controller and the test case can be started in two ways:  \n",
        "\n",
        "1. By intializing the test case to a specific time with a specific warm-up period using the `PUT /initialize` BOPTEST API endpoint and specifying the `start_time` in seconds from the beginning of the year and the `warmup_period` in the number of seconds before `start_time`.  This type of initialization allows for a user to test their controller for arbitrary periods during the year.  Note that the warm-up period is a period of simulation before the desired starting time that can be used to set initial conditions of the simulation at the start time.  During warm-up, the baseline controller simulates the model to prepare it to a realistic operational state.\n",
        "\n",
        "2. Selecting a testing scenario using the `PUT /scenario` BOPTEST API endpoint, which allows a user to test their controller for a pre-defined period and with predefined conditions, as defined for each test case within their respective documentation.  An important distinction compared to the previous initialization choice is that selecting a test scenario will not allow a user to simulate the test case past the end point of the scenario time period, unless the test case is reinitialized again. \n",
        "\n",
        "Let's first use the `PUT /initialize` BOPTEST API endpoint with parameters `start_time` and `warmup_period` to initialize the test case for the February 1st with one week of warm-up period.  Notice that the returned json contains the current values of the measurement points, including `time`.  The simulation will then wait for another API request, such as the one to advance the simulation with a specific control input described in the next section."
      ]
    },
    {
      "cell_type": "code",
      "execution_count": null,
      "metadata": {
        "colab": {
          "base_uri": "https://localhost:8080/"
        },
        "id": "F7H0EF-aBaWR",
        "outputId": "9b01fcbe-02f3-4ca4-83ab-3ea1c967f23d"
      },
      "outputs": [
        {
          "output_type": "stream",
          "name": "stdout",
          "text": [
            "21.364446797690675\n",
            "31.0\n"
          ]
        }
      ],
      "source": [
        "y = requests.put('{0}/initialize/{1}'.format(url, testid), \n",
        "                 data={'start_time':   31*24*3600,\n",
        "                       'warmup_period': 7*24*3600}).json()['payload']\n",
        "print(y['reaTZon_y']-273.15)\n",
        "print(y['time']/24/3600)"
      ]
    },
    {
      "cell_type": "markdown",
      "metadata": {
        "id": "Z0pLKb3MDvxf"
      },
      "source": [
        "Now, let's see how we can select a specific testing scenario.  For our selected test case `bestest_hydronic_heat_pump`, testing scenario time periods are available that each last for two weeks, with a one week warm-up period.  These periods represent either peak heating or typical heating.  Note for test cases that also utilize cooling systems, scanerio time periods for peak cooling, typical cooling, and mixed heating and cooling are also available.  In addition to the time period, a testing scenario is also defined by an electricity price profile.  For all available test cases, the available electricity price profiles represent constant, dynamic, or highly dynamic conditions.  A dynamic price profile follows something like a day-night or time-of-use tariff, while a highly dynamic price profile follows something like a wholesale electricity market for the building's location.  Note that for our selected test case `bestest_hydronic_heat_pump`, the price profiles include a constant offset for transportation fees and taxes such that realistic pricing is used.  See the detailed documentation for a summary of scenario options and more details of the scenario assumptions.\n",
        "\n",
        "Now, use the `PUT /scenario` BOPTEST API endpoint with parameters `time_period` and `electricity_price` to set a specific scenario.  The following shall be used to set the `peak_heat_day` time period with a `dynamic` electricity price profile:\n"
      ]
    },
    {
      "cell_type": "code",
      "execution_count": null,
      "metadata": {
        "id": "FFSk7Me8M0uB"
      },
      "outputs": [],
      "source": [
        "scenario_return = requests.put('{0}/scenario/{1}'.format(url, testid), \n",
        "                  data={'time_period':'peak_heat_day',\n",
        "                        'electricity_price':'dynamic'}).json()['payload']"
      ]
    },
    {
      "cell_type": "markdown",
      "metadata": {
        "id": "wb-wrONNROe5"
      },
      "source": [
        "Note that setting the scenario API call returns two arguments: the `'time_period'` with current time measurements of the simulation intialized to the scenario time period, and the `'electricity_price'` that will be `True` if succeeded in setting the electricity price profile.\n"
      ]
    },
    {
      "cell_type": "code",
      "execution_count": null,
      "metadata": {
        "colab": {
          "base_uri": "https://localhost:8080/"
        },
        "id": "XyE9xNv8NkAI",
        "outputId": "89fb911f-898c-49e9-f8dd-100701c7daa9"
      },
      "outputs": [
        {
          "output_type": "stream",
          "name": "stdout",
          "text": [
            "21.314391986006342\n",
            "16.0\n",
            "dynamic\n"
          ]
        }
      ],
      "source": [
        "y = scenario_return['time_period']\n",
        "start_time_days = y['time']/24/3600\n",
        "print(y['reaTZon_y']-273.15)\n",
        "print(y['time']/24/3600)\n",
        "print(scenario_return['electricity_price'])"
      ]
    },
    {
      "cell_type": "markdown",
      "metadata": {
        "id": "iTsT9pZLNtDR"
      },
      "source": [
        "To check the current test case scenario, use the `GET /scenario` BOPTEST API endpoint:"
      ]
    },
    {
      "cell_type": "code",
      "execution_count": null,
      "metadata": {
        "colab": {
          "base_uri": "https://localhost:8080/"
        },
        "id": "BFAMBuv6TZKp",
        "outputId": "b3fa0166-5556-44e5-aa2a-8ba136461600"
      },
      "outputs": [
        {
          "output_type": "execute_result",
          "data": {
            "text/plain": [
              "{'electricity_price': 'dynamic', 'time_period': 'peak_heat_day'}"
            ]
          },
          "metadata": {},
          "execution_count": 9
        }
      ],
      "source": [
        "requests.get('{0}/scenario/{1}'.format(url, testid)).json()['payload']"
      ]
    },
    {
      "cell_type": "markdown",
      "metadata": {
        "id": "F2QmxlnlT6Pf"
      },
      "source": [
        "### Advancing the Simulation"
      ]
    },
    {
      "cell_type": "markdown",
      "metadata": {
        "id": "CdvzFRxpT-Hb"
      },
      "source": [
        "With the test case simulation intialized, we are ready to advance the simulation.  First, we must consider how far to advance the simulation at one time, called the control step.  Use the `GET /step` and `PUT /step` BOPTEST API endpoints to get and set, in this case with the `step` parameter, the control step.  Note that each test case has a control step specified by default.  Our selected test case has a default control step of 3600 seconds, which we get and then set as an example."
      ]
    },
    {
      "cell_type": "code",
      "execution_count": null,
      "metadata": {
        "colab": {
          "base_uri": "https://localhost:8080/"
        },
        "id": "nrYKoEv9AE62",
        "outputId": "5d4b210e-fd1b-4b9d-bbb3-7d5a40b05069"
      },
      "outputs": [
        {
          "output_type": "stream",
          "name": "stdout",
          "text": [
            "DEFAULT STEP PERIOD [seconds] --------------------------------\n",
            "3600\n"
          ]
        },
        {
          "output_type": "execute_result",
          "data": {
            "text/plain": [
              "<Response [200]>"
            ]
          },
          "metadata": {},
          "execution_count": 10
        }
      ],
      "source": [
        "# Get default control step\n",
        "step = requests.get('{0}/step/{1}'.format(url, testid)).json()['payload']\n",
        "print('DEFAULT STEP PERIOD [seconds] --------------------------------')\n",
        "print(step)\n",
        "# Set the control step\n",
        "requests.put('{0}/step/{1}'.format(url, testid), data={'step':step})"
      ]
    },
    {
      "cell_type": "markdown",
      "metadata": {
        "id": "mSaMrUpLM5Ld"
      },
      "source": [
        "Now, use the `POST /advance` BOPTEST API endpoint to advance the test case simulation one control step with the embedded baseline controller.  Here, we are not overwriting any control inputs. However, the simulation has advanced one hour with the baseline controller from the initial time of the `peak_heat_day` scenario time period we specified earlier.  Note that the returned json contains the current time measurements of the simulation, that is, after the advance has completed."
      ]
    },
    {
      "cell_type": "code",
      "execution_count": null,
      "metadata": {
        "colab": {
          "base_uri": "https://localhost:8080/"
        },
        "id": "H9ccFluMUjtg",
        "outputId": "acbd0c98-d5fe-455f-a054-ea675fb483b3"
      },
      "outputs": [
        {
          "output_type": "stream",
          "name": "stdout",
          "text": [
            "21.406397976090375\n",
            "16.041666666666668\n"
          ]
        }
      ],
      "source": [
        "y = requests.post('{0}/advance/{1}'.format(url, testid)).json()['payload']\n",
        "print(y['reaTZon_y']-273.15)\n",
        "print(y['time']/24/3600)"
      ]
    },
    {
      "cell_type": "markdown",
      "metadata": {
        "id": "uoBwCXZ9XaBw"
      },
      "source": [
        "Finally, use the `POST /advance` BOPTEST API endpoint to advance the simulation further, but this time with the heat pump modulation signal overwritten so that it runs the compressor at half of its capacity for one hour (the default control step).  It is needed to both activate this signal and define the desired value when advancing the simulation.  The control signals to be overwritten are defined with API request parameters that are dynamic according to the control inputs available for each test case.  Here, specify the values of the parameters in a Python dictionary `u` and pass it to the API request.  Remember that the evaporator fan and the circulation pump will be automatically switched on because of controller C2.  "
      ]
    },
    {
      "cell_type": "code",
      "execution_count": null,
      "metadata": {
        "colab": {
          "base_uri": "https://localhost:8080/"
        },
        "id": "BIlIHKB4YP1P",
        "outputId": "d27ae370-16d7-4b4c-fe02-dd7f75637d8b"
      },
      "outputs": [
        {
          "output_type": "stream",
          "name": "stdout",
          "text": [
            "21.415455088881117\n",
            "16.083333333333332\n"
          ]
        }
      ],
      "source": [
        "u = {'oveHeaPumY_u':0.5,\n",
        "     'oveHeaPumY_activate': 1}\n",
        "y = requests.post('{0}/advance/{1}'.format(url, testid), data=u).json()['payload']\n",
        "print(y['reaTZon_y']-273.15)\n",
        "print(y['time']/24/3600)"
      ]
    },
    {
      "cell_type": "markdown",
      "metadata": {
        "id": "m8kWONS5YpG9"
      },
      "source": [
        "### Getting Simulation Result Data"
      ]
    },
    {
      "cell_type": "markdown",
      "metadata": {
        "id": "PnR1p5H9Ytru"
      },
      "source": [
        "Now let's take a look at the simulation results so far.  This can be obtained with the `GET /results` BOPTEST API endpoint and `point_name`, `start_time`, and `final_time` parameters, which are used to define the point and time period of data to be retrieved, much like in any building management system.  The start and final times need to be defined in seconds from the start of the year.  In the code below, we use negative and positive infinity to collect all available data."
      ]
    },
    {
      "cell_type": "code",
      "execution_count": null,
      "metadata": {
        "colab": {
          "base_uri": "https://localhost:8080/",
          "height": 298
        },
        "id": "rU_eIpcFZaVg",
        "outputId": "46fe1dd7-a48e-4305-d999-3119ab637f03"
      },
      "outputs": [
        {
          "output_type": "execute_result",
          "data": {
            "text/plain": [
              "<matplotlib.lines.Line2D at 0x7f6d9ab276d0>"
            ]
          },
          "metadata": {},
          "execution_count": 13
        },
        {
          "output_type": "display_data",
          "data": {
            "text/plain": [
              "<Figure size 432x288 with 1 Axes>"
            ],
            "image/png": "[encoded data removed]"
          },
          "metadata": {
            "needs_background": "light"
          }
        }
      ],
      "source": [
        "import numpy as np\n",
        "import matplotlib.pyplot as plt\n",
        "\n",
        "args = {'point_name':'reaTZon_y','start_time':-np.inf, 'final_time':np.inf}\n",
        "res = requests.put('{0}/results/{1}'.format(url, testid), data=args).json()['payload']\n",
        "plt.plot(np.asarray(res['time'])/24/3600, np.asarray(res['reaTZon_y'])-273.15)\n",
        "plt.xlabel('Time from beginning of the year (days)')\n",
        "plt.ylabel('Zone operative temperature (degC)')\n",
        "plt.axvline(start_time_days, linestyle='--', color='r')"
      ]
    },
    {
      "cell_type": "markdown",
      "metadata": {
        "id": "L6qrOng3dKqz"
      },
      "source": [
        "Note that most of the simulation results correspond to the one week warm-up period defined by the scenario initilization done before, and only a small part to the couple of control steps advanced during the scenario test period.  The start time of the test period, saved in the variable `start_time_days` earlier, is shown in red.\n",
        "\n",
        "The results are provided during the warmup period so that for example, advanced controllers like MPC could use them for initial state estimation.\n",
        "\n"
      ]
    },
    {
      "cell_type": "markdown",
      "metadata": {
        "id": "eo_EYEG5R76x"
      },
      "source": [
        "\n",
        "### Getting Core KPI Values\n",
        "\n",
        "  \n",
        "\n",
        "We're now ready to obtain the final KPIs, calculated based on the emulator performance during a simulation (starting from the initialization). The core KPIs, those that are calculated for every test case, are defined in BOPTEST to evaluate different aspects of a controller. These are:\n",
        "\n",
        "  \n",
        "\n",
        "* **Thermal discomfort**: reported with units of [$K \\, h/zone$], defines the cumulative deviation of zone temperatures from upper and lower comfort limits that are predefined within the test case FMU for each zone, averaged over all zones. Air temperature is used for air-based systems and operative temperature is used for radiant systems.\n",
        "\n",
        "* **Indoor Air Quality (IAQ) Discomfort**: reported with units of [$ppm \\, h/zone$], defines the extent that the CO$_2$ concentration levels in zones exceed bounds of the acceptable concentration level, which are predefined within the test case FMU for each zone, averaged over all zones.\n",
        "\n",
        "* **Energy Use**: reported with units of [$kWh/m^2$], defines the HVAC energy usage.\n",
        "\n",
        "* **Peak electrical demand**:reported with units of [$kW/m^2$], defines the HVAC peak electrical demand.\n",
        "\n",
        "* **Peak gas demand**:reported with units of [$kW/m^2$], defines the HVAC peak gas demand.\n",
        "\n",
        "* **Peak district heating demand**:reported with units of [$kW/m^2$], defines the HVAC peak district heating demand.\n",
        "\n",
        "* **Cost**: reported with units of [USD/$m^2$] or [EUR/$m^2$], defines the operational cost associated with the HVAC energy usage.\n",
        "\n",
        "* **Emissions**: reported with units of [$kg \\, CO_2/m^2$], defines the CO$_2$ emissions from the HVAC energy usage.\n",
        "\n",
        "\n",
        "  \n",
        "  \n",
        "\n",
        "* **Computational time ratio**: defines the average ratio between the controller computation time and the test simulation control step. The controller computation time is measured as the time between two emulator advances.\n",
        "\n",
        "  \n",
        "\n",
        "The core KPIs are normally calculated at the end of the simulation to assess the controller performance, although they can be computed at any time. The warmup period is not taken into account for the calculation of the KPIs.\n",
        "\n",
        "  \n",
        "\n",
        "Get the core KPI values using the `GET /kpi` BOPTEST API endpoint."
      ]
    },
    {
      "cell_type": "code",
      "execution_count": null,
      "metadata": {
        "colab": {
          "base_uri": "https://localhost:8080/"
        },
        "id": "S7bzFPZBhIFR",
        "outputId": "b24fe718-90ef-4c5b-e8fe-de149b62962c"
      },
      "outputs": [
        {
          "output_type": "execute_result",
          "data": {
            "text/plain": [
              "{'tdis_tot': 0,\n",
              " 'idis_tot': 0,\n",
              " 'ener_tot': 0.02839331840257897,\n",
              " 'cost_tot': 0.006766127775334571,\n",
              " 'emis_tot': 0.004741684173230688,\n",
              " 'pele_tot': 0.015044889571272379,\n",
              " 'pgas_tot': None,\n",
              " 'pdih_tot': None,\n",
              " 'time_rat': 1.4185839229159886e-05}"
            ]
          },
          "metadata": {},
          "execution_count": 14
        }
      ],
      "source": [
        "requests.get('{0}/kpi/{1}'.format(url, testid)).json()['payload']"
      ]
    },
    {
      "cell_type": "markdown",
      "metadata": {
        "id": "nLwaTeZohmX_"
      },
      "source": [
        "### Simulating the Baseline Control for Benchmarking"
      ]
    },
    {
      "cell_type": "markdown",
      "metadata": {
        "id": "eRUBoh78iFd5"
      },
      "source": [
        "Before testing our own controller, let's simulate the baseline for a defined scenario and evaluate its performance.  We reinitialize the test case to return it to a clean state and record the KPIs of the baseline after simulating for the entire test scenario period for future comparison. \n",
        "The baseline can be quickly simulated by setting a long control step and without overwritting any control signal when advancing the simulation.  Here, we even set the control step to one year knowing that the simulation is forced to stop at the end of the scenario time period. \n"
      ]
    },
    {
      "cell_type": "code",
      "execution_count": null,
      "metadata": {
        "colab": {
          "base_uri": "https://localhost:8080/"
        },
        "id": "U-DD8_kciaGx",
        "outputId": "a12477f5-8ac9-441d-d822-b87353c6e6ff"
      },
      "outputs": [
        {
          "output_type": "execute_result",
          "data": {
            "text/plain": [
              "{'tdis_tot': 8.382467492017371,\n",
              " 'idis_tot': 0,\n",
              " 'ener_tot': 3.4781106340875496,\n",
              " 'cost_tot': 0.8828705411678542,\n",
              " 'emis_tot': 0.5808444758926209,\n",
              " 'pele_tot': 0.018913031427716383,\n",
              " 'pgas_tot': None,\n",
              " 'pdih_tot': None,\n",
              " 'time_rat': 4.467750521011004e-07}"
            ]
          },
          "metadata": {},
          "execution_count": 15
        }
      ],
      "source": [
        "# Reinitialize the test scenario\n",
        "requests.put('{0}/scenario/{1}'.format(url, testid), \n",
        "              data={'time_period':'peak_heat_day',\n",
        "                    'electricity_price':'dynamic'}).json()\n",
        "# Set the control step to one year\n",
        "requests.put('{0}/step/{1}'.format(url, testid), data={'step':365*24*3600})\n",
        "# Advance the simulation with no control overwrite\n",
        "requests.post('{0}/advance/{1}'.format(url, testid), data={}).json()\n",
        "# Get and print the KPIs\n",
        "kpis_bas = requests.get('{0}/kpi/{1}'.format(url, testid)).json()['payload']\n",
        "kpis_bas"
      ]
    },
    {
      "cell_type": "markdown",
      "metadata": {
        "id": "GnzL11hhj6UG"
      },
      "source": [
        "The following function can be used for a time series visualization of the results:"
      ]
    },
    {
      "cell_type": "code",
      "execution_count": null,
      "metadata": {
        "id": "8n7x80jBkJbA"
      },
      "outputs": [],
      "source": [
        "import pandas as pd\n",
        "def get_and_plot_results(testid, start_time, final_time):\n",
        "    '''\n",
        "    Get and plot result key trajectories from the test case.\n",
        "\n",
        "    The key trajectories are zone operative temperature, zone heating and \n",
        "    cooling set points, heat pump electrical power, outside air dry bulb \n",
        "    temperature, and outside direct normal solar irradiation.\n",
        "\n",
        "    Parameters\n",
        "    ----------\n",
        "    testid : str\n",
        "      The testid for the test case.\n",
        "    start_time : float or int\n",
        "      The start time in seconds from the beginning of the year for data.\n",
        "    final_time : float or int\n",
        "      The final time in seconds from the beginning of the year for data.\n",
        "\n",
        "    Returns\n",
        "    -------\n",
        "    None\n",
        "\n",
        "    '''\n",
        "    df_res = pd.DataFrame()\n",
        "    for point in ['reaTZon_y', 'reaTSetHea_y', 'reaTSetCoo_y', 'oveHeaPumY_u', \n",
        "                  'weaSta_reaWeaTDryBul_y', 'weaSta_reaWeaHDirNor_y']:\n",
        "        args = {'point_name':point,\n",
        "                'start_time':start_time, \n",
        "                'final_time':final_time}\n",
        "        res = requests.put('{0}/results/{1}'.format(url, testid), \n",
        "                           data=args).json()['payload']\n",
        "        # print(point, \": \", res)\n",
        "        df_res = pd.concat((df_res,pd.DataFrame(data=res[point], \n",
        "                            index=res['time'],columns=[point])), axis=1)\n",
        "    df_res.index.name = 'time'\n",
        "    plt.close()\n",
        "    _, axs = plt.subplots(3, sharex=True, figsize=(10,8))\n",
        "    x_time = df_res.index/3600./24.\n",
        "    # Plot operative temperature\n",
        "    axs[0].plot(x_time, df_res['reaTZon_y']    - 273.15, 'darkorange', \n",
        "                linestyle='-', linewidth=0.8, label='$T_z$')\n",
        "    axs[0].plot(x_time, df_res['reaTSetHea_y'] - 273.15, 'gray', \n",
        "                linewidth=0.8, label='Comfort setp.')\n",
        "    axs[0].plot(x_time, df_res['reaTSetCoo_y'] - 273.15, 'gray', \n",
        "                linewidth=0.8, label='_nolegend_')\n",
        "    axs[0].set_yticks(np.arange(15, 31, 5))\n",
        "    axs[0].set_ylabel('Operative\\ntemperature\\n($^\\circ$C)')\n",
        "    axs[0].legend()\n",
        "    # Plot heat pump electrical power\n",
        "    axs[1].plot(x_time, df_res['oveHeaPumY_u'], 'darkorange',     \n",
        "                linestyle='-', linewidth=0.8, label='$P_{hp}$')\n",
        "    axs[1].set_ylabel('Heat pump\\nmodulation\\nsignal\\n( - )')\n",
        "    axs[1].legend()\n",
        "    # Plot disturbances\n",
        "    axs[2].plot(x_time, df_res['weaSta_reaWeaTDryBul_y'] - 273.15, 'royalblue', \n",
        "                linestyle='-', linewidth=0.8, label='$T_a$')\n",
        "    axs[2].set_ylabel('Ambient\\ntemperature\\n($^\\circ$C)')\n",
        "    axs[2].set_yticks(np.arange(-5, 16, 5))\n",
        "    axs[2].legend(loc='upper left')\n",
        "    axs[2].set_xlabel('Day of the year')\n",
        "    axt = axs[2].twinx()\n",
        "    axt.plot(x_time, df_res['weaSta_reaWeaHDirNor_y'], 'gold', \n",
        "             linestyle='-', linewidth=0.8, label='$\\dot{Q}_{rad}$')\n",
        "    axt.set_ylabel('Solar\\nirradiation\\n($W$)')\n",
        "    axt.legend(loc='upper right')\n",
        "    plt.show()  \n",
        "\n",
        "    return None"
      ]
    },
    {
      "cell_type": "code",
      "execution_count": null,
      "metadata": {
        "colab": {
          "base_uri": "https://localhost:8080/",
          "height": 497
        },
        "id": "iajzYCqXkL0p",
        "outputId": "2debe160-6246-42f8-c438-ba65054bb27f"
      },
      "outputs": [
        {
          "output_type": "display_data",
          "data": {
            "text/plain": [
              "<Figure size 720x576 with 4 Axes>"
            ],
            "image/png": "[encoded data removed]"
          },
          "metadata": {
            "needs_background": "light"
          }
        }
      ],
      "source": [
        "get_and_plot_results(testid, start_time=start_time_days*24*3600, final_time=np.inf)"
      ]
    },
    {
      "cell_type": "markdown",
      "metadata": {
        "id": "MMhFovHtYj5b"
      },
      "source": [
        "---"
      ]
    },
    {
      "cell_type": "markdown",
      "metadata": {
        "id": "W_pFyhI4lpSh"
      },
      "source": [
        "### Assessing Your Own Control Algorithm"
      ]
    },
    {
      "cell_type": "markdown",
      "metadata": {
        "id": "GpHRsDjyW85a"
      },
      "source": [
        "Now that we know how to initialize a test case, advance a simulation, and obtain results, it is time to implement and assess our own control algorithm. \n",
        "For this example we are going to implement a very simple proportional controller that will determine the heat pump modulation signal as a function of the zone operative temperature.\n",
        "No other variables need to be overwritten since the subcontroller C2 will switch on the heat pump fan and the circulation pump every time we send a control signal with `oveHeaPumY_u > 0`. \n",
        "Only two parameters need tuning: the temperature set point and the proportional gain: "
      ]
    },
    {
      "cell_type": "code",
      "execution_count": null,
      "metadata": {
        "id": "2bDPahItY5Lt"
      },
      "outputs": [],
      "source": [
        "class Controller_Proportional(object):\n",
        "    \n",
        "    def __init__(self, TSet=273.15+21, k_p=10.):\n",
        "        '''Constructor.\n",
        "\n",
        "        Parameters\n",
        "        ----------\n",
        "        TSet : float, optional\n",
        "            Temperature set-point in Kelvin.\n",
        "        k_p : float, optional\n",
        "            Proportional gain. \n",
        "            \n",
        "        '''\n",
        "        \n",
        "        self.TSet = TSet\n",
        "        self.k_p  = k_p\n",
        "    \n",
        "    def compute_control(self, y):\n",
        "        '''Compute the control input from the measurement.\n",
        "    \n",
        "        Parameters\n",
        "        ----------\n",
        "        y : dict\n",
        "            Contains the current values of the measurements.\n",
        "            {<measurement_name>:<measurement_value>}\n",
        "    \n",
        "        Returns\n",
        "        -------\n",
        "        u : dict\n",
        "            Defines the control input to be used for the next step.\n",
        "            {<input_name> : <input_value>}\n",
        "    \n",
        "        '''\n",
        "    \n",
        "        # Compute control\n",
        "        if y['reaTZon_y']<self.TSet:\n",
        "            e = self.TSet - y['reaTZon_y']\n",
        "        else:\n",
        "            e = 0\n",
        "    \n",
        "        value = self.k_p*e\n",
        "        u = {'oveHeaPumY_u':value,\n",
        "             'oveHeaPumY_activate': 1}\n",
        "    \n",
        "        return u"
      ]
    },
    {
      "cell_type": "markdown",
      "metadata": {
        "id": "G0lxuHPXZABi"
      },
      "source": [
        "Now let's initialize the test case in the same scenario that we used to obtain the baseline controller KPIs, that is, the peak heating period with dynamic pricing.  We also define the control step to be one hour.  This is equal to the default but maybe a tunable parameter later. \n",
        "After that, we instantiate the controller and define a simulation loop using the BOPTEST API.\n",
        "Note that the test case will return an empty dictionary when the testing period has elapsed, such that we can loop over the returned measurements without having to infer when the simulation time should end."
      ]
    },
    {
      "cell_type": "code",
      "execution_count": null,
      "metadata": {
        "colab": {
          "base_uri": "https://localhost:8080/"
        },
        "id": "daplgiu0c8zl",
        "outputId": "bda578b7-035c-4ae8-e112-9c348758d538"
      },
      "outputs": [
        {
          "output_type": "stream",
          "name": "stdout",
          "text": [
            "-------------------------------------------------------------------\n",
            "Operative temperature [degC]  = 20.80\n",
            "Simulation time [elapsed days] = 14.00\n",
            "-------------------------------------------------------------------\n"
          ]
        }
      ],
      "source": [
        "# Initialize scenario\n",
        "y = requests.put('{0}/scenario/{1}'.format(url, testid), \n",
        "                 data={'time_period':'peak_heat_day',\n",
        "                       'electricity_price':'dynamic'}).json()['payload']['time_period']\n",
        "# Set control step\n",
        "requests.put('{0}/step/{1}'.format(url, testid), data={'step':3600})\n",
        "# Instantiate controller\n",
        "con = Controller_Proportional(TSet=273.15+21, k_p=5.)\n",
        "# Simulation loop\n",
        "from IPython.display import clear_output\n",
        "while y:\n",
        "    # Clear the display output at each step\n",
        "    clear_output(wait=True)\n",
        "    # Print the current operative temperature and simulation time\n",
        "    print('-------------------------------------------------------------------')\n",
        "    print('Operative temperature [degC]  = {:.2f}'.format(y['reaTZon_y']-273.15))\n",
        "    simulation_time_days = y['time']/3600/24\n",
        "    print('Simulation time [elapsed days] = {:.2f}'.format((simulation_time_days - \\\n",
        "                                                    start_time_days)))\n",
        "    print('-------------------------------------------------------------------')\n",
        "    # Compute control signal \n",
        "    u = con.compute_control(y)\n",
        "    # Advance simulation with control signal\n",
        "    y = requests.post('{0}/advance/{1}'.format(url, testid), data=u).json()['payload']    \n"
      ]
    },
    {
      "cell_type": "markdown",
      "metadata": {
        "id": "ZeasYs0bfnfA"
      },
      "source": [
        "After the simulation is done, we can plot the results, obtain KPIs, and compare with those obtained for the baseline controller, which were saved in the variable `kpis_bas`."
      ]
    },
    {
      "cell_type": "code",
      "execution_count": null,
      "metadata": {
        "colab": {
          "base_uri": "https://localhost:8080/",
          "height": 497
        },
        "id": "LvpSP0Frfzb-",
        "outputId": "267ef6ab-3113-4405-b0b9-31e1bc006c44"
      },
      "outputs": [
        {
          "output_type": "display_data",
          "data": {
            "text/plain": [
              "<Figure size 720x576 with 4 Axes>"
            ],
            "image/png": "[encoded data removed]"
          },
          "metadata": {
            "needs_background": "light"
          }
        }
      ],
      "source": [
        "get_and_plot_results(testid, start_time=start_time_days*24*3600, final_time=np.inf)"
      ]
    },
    {
      "cell_type": "code",
      "execution_count": null,
      "metadata": {
        "colab": {
          "base_uri": "https://localhost:8080/"
        },
        "id": "uYwtqA_2gHVP",
        "outputId": "1acd9159-3bd1-40a8-fc96-c9bec8ae8233"
      },
      "outputs": [
        {
          "output_type": "execute_result",
          "data": {
            "text/plain": [
              "{'tdis_tot': 19.876021766419118,\n",
              " 'idis_tot': 0,\n",
              " 'ener_tot': 2.731379921546184,\n",
              " 'cost_tot': 0.6932941788657855,\n",
              " 'emis_tot': 0.4561404468982127,\n",
              " 'pele_tot': 0.020371771206436497,\n",
              " 'pgas_tot': None,\n",
              " 'pdih_tot': None,\n",
              " 'time_rat': 2.670467528737185e-05}"
            ]
          },
          "metadata": {},
          "execution_count": 21
        }
      ],
      "source": [
        "kpis_con = requests.get('{0}/kpi/{1}'.format(url, testid)).json()['payload']\n",
        "kpis_con"
      ]
    },
    {
      "cell_type": "code",
      "execution_count": null,
      "metadata": {
        "colab": {
          "base_uri": "https://localhost:8080/"
        },
        "id": "cjhWmt8sqVAi",
        "outputId": "38a28c64-2222-4e4c-8716-6ede649622ff"
      },
      "outputs": [
        {
          "output_type": "execute_result",
          "data": {
            "text/plain": [
              "{'tdis_tot': 8.382467492017371,\n",
              " 'idis_tot': 0,\n",
              " 'ener_tot': 3.4781106340875496,\n",
              " 'cost_tot': 0.8828705411678542,\n",
              " 'emis_tot': 0.5808444758926209,\n",
              " 'pele_tot': 0.018913031427716383,\n",
              " 'pgas_tot': None,\n",
              " 'pdih_tot': None,\n",
              " 'time_rat': 4.467750521011004e-07}"
            ]
          },
          "metadata": {},
          "execution_count": 22
        }
      ],
      "source": [
        "kpis_bas"
      ]
    },
    {
      "cell_type": "markdown",
      "metadata": {
        "id": "YBGPmm8TxLko"
      },
      "source": [
        "Our controller does not obviously improve the results so far. \n",
        "While it does use less energy, it approximately doubles the thermal discomfort. \n",
        "You may want to re-run the previous cells with different values of `TSet`, `k_p`, and control step to find a good balance between comfort and operational cost.  We will continue this in Part 4.\n",
        "Feel free to also explore viewing other measurements or changing the test case scenario."
      ]
    },
    {
      "cell_type": "markdown",
      "metadata": {
        "id": "r6h7MYfQiiy8"
      },
      "source": [
        "### Stopping the Test Case\n",
        "\n",
        "Now that we're finished evaluating the performance of our controller, let's stop the test case instance in order to free up web-service resources for other test cases.  Feel free to go back to the beginning of this Part 2, however, to re-select a test case and begin again."
      ]
    },
    {
      "cell_type": "code",
      "execution_count": null,
      "metadata": {
        "id": "DKJxxIPCjCi8"
      },
      "outputs": [],
      "source": [
        "# Set to true if want to stop test case\n",
        "# Note: Part 4. code will not work if test case is stopped and not restarted first\n",
        "stop = False\n",
        "if stop:\n",
        "  requests.put('{0}/stop/{1}'.format(url, testid))"
      ]
    },
    {
      "cell_type": "markdown",
      "metadata": {
        "id": "lMK54jC50P-I"
      },
      "source": [
        "---"
      ]
    },
    {
      "cell_type": "markdown",
      "metadata": {
        "id": "anzaWV-rUUhv"
      },
      "source": [
        "# **Part 3: (Presentation) Example Development and Evaluation of an MPC Controller**"
      ]
    },
    {
      "cell_type": "markdown",
      "metadata": {
        "id": "uK24xVcyWpAI"
      },
      "source": [
        "An example of the implementation and evaluation of an MPC for the BOPTEST test case of this tutorial is given in the accompanying presentation *Example Development and Evaluation of an MPC Controller*."
      ]
    },
    {
      "cell_type": "markdown",
      "metadata": {
        "id": "KPuRmek6YmP7"
      },
      "source": [
        "---"
      ]
    },
    {
      "cell_type": "markdown",
      "metadata": {
        "id": "Yw7TSQJzXRYW"
      },
      "source": [
        "# **Part 4: (Exercise): Improving Controller Performance and Reporting Results**"
      ]
    },
    {
      "cell_type": "markdown",
      "metadata": {
        "id": "rm4_fFiZXZKo"
      },
      "source": [
        "The goal of this part of the tutorial is to optimize the controller developed in Exercise 1 by further tuning for energy cost and thermal discomfort reduction. Team-work in groups of 2-3 is encouraged for this.  Feel free to use the code and controller developed in Part 2 as a starting basis or create your own.  Either way, make sure you are testing your controller on:\n",
        "\n",
        "*   Test case = `bestest_hydronic_heat_pump`\n",
        "*   Scenario = `peak_heat_day` time period and `dynamic` electricity price\n",
        "\n",
        "## Report Your Results\n",
        "\n",
        "A key aspect of BOPTEST is reporting your results for comparison against other control algorithms.  Therefore, let's collect each team's KPI results to keep track of how our test controller can be improved.  Report your latest KPI values and brief description of key controller innovation(s) after 10, 20, and 30 minutes of work to the appropriate worksheets at [BOPTEST RESULTS BS2021](https://docs.google.com/spreadsheets/d/147my370AFpldpdpS3jQclzc8roVIFPTamB_iCVjuLAk/edit?usp=sharing).  After 30 minutes of work, we will discuss the results!\n",
        "\n"
      ]
    },
    {
      "cell_type": "markdown",
      "metadata": {
        "id": "agFlwA3VzOUV"
      },
      "source": [
        "## Try Using Forecasts\n",
        "\n",
        "Though we did not cover this in Part 2, the presentation in Part 3 showed that the use of forecasts could help a controller deal with time delay associated with the thermal mass of the floor heating system.  In BOPTEST, forecasts provide you with things like weather forecasts, internal load and occupancy forecasts, electricity price forecasts, and set point values for zone temperature and CO2 concentration utilized for thermal and IAQ discomfort KPI calculations.  \n",
        "\n",
        "Use the `PUT /forecast_parameters` BOPTEST API endpoint with parameters `horizon` and `interval` in seconds to set a forecast horizon and data interval.  Then, use the `GET /forecast` BOPTEST API endpoint to retrieve the forecast data, which will start from the current simulation time.\n"
      ]
    },
    {
      "cell_type": "code",
      "execution_count": null,
      "metadata": {
        "colab": {
          "base_uri": "https://localhost:8080/"
        },
        "id": "vg2UZVtRtot-",
        "outputId": "c10b895f-550c-4568-f6ab-beb71f5e5a92"
      },
      "outputs": [
        {
          "output_type": "stream",
          "name": "stdout",
          "text": [
            "Outside Air Dry Bulb Temperature Forecast [K]--------------------------\n",
            "[273.45, 273.25, 273.45, 274.15, 273.85, 273.75, 273.75]\n",
            "Dynamic Electricty Price Forecast [Euro/kWh]---------------------------\n",
            "[0.2383, 0.2383, 0.2383, 0.2383, 0.2383, 0.2383, 0.2383]\n",
            "Occupancy Count Forecast for Zone \"1\" [ppl]----------------------------\n",
            "[5, 5, 5, 5, 5, 5, 5]\n",
            "Upper Operative Temperature Target Forecast for Zone \"1\" [K]-----------\n",
            "[297.15, 297.15, 297.15, 297.15, 297.15, 297.15, 297.15]\n",
            "Lower Operative Temperature Target Forecast for Zone \"1\" [K]-----------\n",
            "[294.15, 294.15, 294.15, 294.15, 294.15, 294.15, 294.15]\n",
            "Simulation Time [s]----------------------------------------------------\n",
            "[2592000, 2595600, 2599200, 2602800, 2606400, 2610000, 2613600]\n"
          ]
        }
      ],
      "source": [
        "# Set forecast parameters\n",
        "requests.put('{0}/forecast_parameters/{1}'.format(url, testid), \n",
        "             data={'horizon':6*3600, 'interval':1*3600})\n",
        "# Get forecast data\n",
        "w = requests.get('{0}/forecast/{1}'.format(url, testid)).json()['payload']\n",
        "print('Outside Air Dry Bulb Temperature Forecast [K]--------------------------')\n",
        "print(w['TDryBul'])\n",
        "print('Dynamic Electricty Price Forecast [Euro/kWh]---------------------------')\n",
        "print(w['PriceElectricPowerDynamic'])\n",
        "print('Occupancy Count Forecast for Zone \"1\" [ppl]----------------------------')\n",
        "print(w['Occupancy[1]'])\n",
        "print('Upper Operative Temperature Target Forecast for Zone \"1\" [K]-----------')\n",
        "print(w['UpperSetp[1]'])\n",
        "print('Lower Operative Temperature Target Forecast for Zone \"1\" [K]-----------')\n",
        "print(w['LowerSetp[1]'])\n",
        "print('Simulation Time [s]----------------------------------------------------')\n",
        "print(w['time'])"
      ]
    },
    {
      "cell_type": "markdown",
      "metadata": {
        "id": "Cn_eIBz4YtB3"
      },
      "source": [
        "---"
      ]
    },
    {
      "cell_type": "markdown",
      "metadata": {
        "id": "GMxKNcG9Xnf4"
      },
      "source": [
        "# **Part 5: Continued Usage and Wrap-Up**"
      ]
    },
    {
      "cell_type": "markdown",
      "metadata": {
        "id": "cM6SEb53Xvnp"
      },
      "source": [
        "Now that you've had some experience working with BOPTEST, here are a few items to know for continuing to use BOPTEST after the workshop.\n",
        "\n",
        "## Local Usage\n",
        "\n",
        "As mentioned in the Goals and Outline section, we have used a web-based version of BOPTEST for this workshop.  You may deploy and work with BOPTEST on your own computer too.  Directions are described in the [BOPTEST User Guide](https://ibpsa.github.io/project1-boptest/docs-userguide/index.html)."
      ]
    },
    {
      "cell_type": "markdown",
      "metadata": {
        "id": "MayMWpwGzau5"
      },
      "source": [
        "## Follow-up Exercise\n",
        "\n",
        "We invite you to continue exploring and using BOPTEST for your own work.  With this invitation comes an opportunity to complete a follow-up exercise meant to continue supporting your use of BOPTEST in this way.  \n",
        "\n",
        "If interested, use your own, innovative methods to design a controller for the `bestest_hydronic_heat_pump` test case.  Test your controller(s) on different scenarios, evaluate their performance using simulation data, and benchmark their performance with the BOPTEST KPI's.  Then, in approximately two months time, we will schedule a follow-up meeting with participants and members of the BOPTEST project team to allow participants to present their work, get support from BOPTEST developers, and offer feedback to improve BOPTEST. \n",
        "\n",
        "Please indicate your anticipation to participate in this follow-up exercise in the Feedback below.\n",
        "\n"
      ]
    },
    {
      "cell_type": "markdown",
      "metadata": {
        "id": "zO59bCtGzcNp"
      },
      "source": [
        "## Feedback\n",
        "\n",
        "Thank you for attending this workshop and for your interest in BOPTEST!  We hope you have enjoyed working with BOPTEST and will find it useful for your own work.  We would appreciate if you would provide your feedback on this workshop and BOPTEST in general using the following form:\n",
        "\n",
        "[Feedback Form](https://forms.gle/cAATBtBBz6iYgVm16)"
      ]
    },
    {
      "cell_type": "markdown",
      "metadata": {
        "id": "7jA4UZatDGd1"
      },
      "source": [
        "## Stopping the current running testcase:"
      ]
    },
    {
      "cell_type": "code",
      "execution_count": null,
      "metadata": {
        "colab": {
          "base_uri": "https://localhost:8080/"
        },
        "id": "9aAMn-3cIIZp",
        "outputId": "da09d05a-adfc-4e89-d032-fb083bd403b1"
      },
      "outputs": [
        {
          "output_type": "stream",
          "name": "stdout",
          "text": [
            "Successfully stopped the test!\n"
          ]
        }
      ],
      "source": [
        "stop_response = requests.put('{0}/stop/{1}'.format(url, testid))\n",
        "if stop_response.status_code == 200:\n",
        "  print(\"Successfully stopped the test!\")\n",
        "else:\n",
        "  print(\"Couldn't stop test with status code: {stop_response.status_code}!\")\n"
      ]
    }
  ],
  "metadata": {
    "colab": {
      "provenance": [],
      "include_colab_link": true
    },
    "kernelspec": {
      "display_name": "Python 3",
      "name": "python3"
    },
    "language_info": {
      "name": "python"
    },
    "gpuClass": "standard"
  },
  "nbformat": 4,
  "nbformat_minor": 0
}